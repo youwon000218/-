{
 "cells": [
  {
   "cell_type": "code",
   "execution_count": 2,
   "metadata": {},
   "outputs": [],
   "source": [
    "import pandas as pd\n",
    "import numpy as np"
   ]
  },
  {
   "cell_type": "code",
   "execution_count": 1,
   "metadata": {},
   "outputs": [],
   "source": [
    "import matplotlib.pyplot as plt\n",
    "\n",
    "# 글꼴 설정 \n",
    "plt.rcParams.update({'font.family':'Malgun Gothic','font.size':12}) #차트 글꼴 설정\n",
    "plt.rc('axes',unicode_minus=False) #유니코드에서 음수 부호설정\n",
    "\n",
    "font2 = {'family': 'Times New Roman',\n",
    "      'color':  'blue',\n",
    "      'weight': 'bold',\n",
    "      'size': 12,\n",
    "      'alpha': 0.7}"
   ]
  },
  {
   "cell_type": "code",
   "execution_count": 3,
   "metadata": {},
   "outputs": [
    {
     "data": {
      "text/html": [
       "<div>\n",
       "<style scoped>\n",
       "    .dataframe tbody tr th:only-of-type {\n",
       "        vertical-align: middle;\n",
       "    }\n",
       "\n",
       "    .dataframe tbody tr th {\n",
       "        vertical-align: top;\n",
       "    }\n",
       "\n",
       "    .dataframe thead th {\n",
       "        text-align: right;\n",
       "    }\n",
       "</style>\n",
       "<table border=\"1\" class=\"dataframe\">\n",
       "  <thead>\n",
       "    <tr style=\"text-align: right;\">\n",
       "      <th></th>\n",
       "      <th>강수량관측일자</th>\n",
       "      <th>강수량관측소구분코드</th>\n",
       "      <th>강수량관측소명</th>\n",
       "      <th>강수량관측소주소</th>\n",
       "      <th>관할기관명</th>\n",
       "      <th>강수량자료값(mm)</th>\n",
       "    </tr>\n",
       "  </thead>\n",
       "  <tbody>\n",
       "    <tr>\n",
       "      <th>0</th>\n",
       "      <td>20230519</td>\n",
       "      <td>10124140</td>\n",
       "      <td>인제군(상남초교)</td>\n",
       "      <td>강원도 인제군 상남면 상남리 107 상남초교</td>\n",
       "      <td>한국수자원공사</td>\n",
       "      <td>NaN</td>\n",
       "    </tr>\n",
       "    <tr>\n",
       "      <th>1</th>\n",
       "      <td>20230519</td>\n",
       "      <td>10124150</td>\n",
       "      <td>인제군(귀둔리)</td>\n",
       "      <td>강원도 인제군 인제읍 귀둔리 34-1</td>\n",
       "      <td>한국수자원공사</td>\n",
       "      <td>NaN</td>\n",
       "    </tr>\n",
       "    <tr>\n",
       "      <th>2</th>\n",
       "      <td>20230519</td>\n",
       "      <td>10124160</td>\n",
       "      <td>홍천군(명개리2)</td>\n",
       "      <td>강원도 홍천군 내면 명개리 162-1</td>\n",
       "      <td>한국수자원공사</td>\n",
       "      <td>NaN</td>\n",
       "    </tr>\n",
       "    <tr>\n",
       "      <th>3</th>\n",
       "      <td>20230519</td>\n",
       "      <td>10124170</td>\n",
       "      <td>춘천시(천전리)</td>\n",
       "      <td>강원도 춘천시 신북읍 천전리61-20</td>\n",
       "      <td>환경부</td>\n",
       "      <td>NaN</td>\n",
       "    </tr>\n",
       "    <tr>\n",
       "      <th>4</th>\n",
       "      <td>20230519</td>\n",
       "      <td>10124175</td>\n",
       "      <td>지내천</td>\n",
       "      <td>강원도 춘천시 동면 지내리 양정교</td>\n",
       "      <td>한국수력원자력</td>\n",
       "      <td>NaN</td>\n",
       "    </tr>\n",
       "  </tbody>\n",
       "</table>\n",
       "</div>"
      ],
      "text/plain": [
       "    강수량관측일자  강수량관측소구분코드    강수량관측소명                  강수량관측소주소    관할기관명  \\\n",
       "0  20230519    10124140  인제군(상남초교)  강원도 인제군 상남면 상남리 107 상남초교  한국수자원공사   \n",
       "1  20230519    10124150   인제군(귀둔리)      강원도 인제군 인제읍 귀둔리 34-1  한국수자원공사   \n",
       "2  20230519    10124160  홍천군(명개리2)      강원도 홍천군 내면 명개리 162-1  한국수자원공사   \n",
       "3  20230519    10124170   춘천시(천전리)      강원도 춘천시 신북읍 천전리61-20      환경부   \n",
       "4  20230519    10124175        지내천        강원도 춘천시 동면 지내리 양정교  한국수력원자력   \n",
       "\n",
       "   강수량자료값(mm)  \n",
       "0         NaN  \n",
       "1         NaN  \n",
       "2         NaN  \n",
       "3         NaN  \n",
       "4         NaN  "
      ]
     },
     "execution_count": 3,
     "metadata": {},
     "output_type": "execute_result"
    }
   ],
   "source": [
    "df = pd.read_csv(\"한강권역강수량관측정보.csv\", encoding=\"cp949\")\n",
    "df.head()"
   ]
  },
  {
   "cell_type": "markdown",
   "metadata": {},
   "source": [
    "## 데이터 전처리"
   ]
  },
  {
   "cell_type": "code",
   "execution_count": 4,
   "metadata": {},
   "outputs": [
    {
     "data": {
      "text/html": [
       "<div>\n",
       "<style scoped>\n",
       "    .dataframe tbody tr th:only-of-type {\n",
       "        vertical-align: middle;\n",
       "    }\n",
       "\n",
       "    .dataframe tbody tr th {\n",
       "        vertical-align: top;\n",
       "    }\n",
       "\n",
       "    .dataframe thead th {\n",
       "        text-align: right;\n",
       "    }\n",
       "</style>\n",
       "<table border=\"1\" class=\"dataframe\">\n",
       "  <thead>\n",
       "    <tr style=\"text-align: right;\">\n",
       "      <th></th>\n",
       "      <th>강수량관측일자</th>\n",
       "      <th>강수량관측소구분코드</th>\n",
       "      <th>강수량관측소명</th>\n",
       "      <th>강수량관측소주소</th>\n",
       "      <th>관할기관명</th>\n",
       "      <th>강수량자료값(mm)</th>\n",
       "    </tr>\n",
       "  </thead>\n",
       "  <tbody>\n",
       "    <tr>\n",
       "      <th>49</th>\n",
       "      <td>20230519</td>\n",
       "      <td>10184040</td>\n",
       "      <td>성남시(한국학중앙연구원)</td>\n",
       "      <td>경기도 성남시 분당구 하오개로 323 한국학중앙연구원</td>\n",
       "      <td>환경부</td>\n",
       "      <td>NaN</td>\n",
       "    </tr>\n",
       "    <tr>\n",
       "      <th>62</th>\n",
       "      <td>20230519</td>\n",
       "      <td>10184180</td>\n",
       "      <td>성남시(성남북초교)</td>\n",
       "      <td>경기도 성남시 수정구 희망로 534번길 3 성남북초등학교</td>\n",
       "      <td>환경부</td>\n",
       "      <td>NaN</td>\n",
       "    </tr>\n",
       "    <tr>\n",
       "      <th>67</th>\n",
       "      <td>20230519</td>\n",
       "      <td>10184230</td>\n",
       "      <td>성남시(구미초교)</td>\n",
       "      <td>경기도 성남시 분당구 미금로 22번길 25 구미초등학교</td>\n",
       "      <td>환경부</td>\n",
       "      <td>NaN</td>\n",
       "    </tr>\n",
       "    <tr>\n",
       "      <th>144</th>\n",
       "      <td>20230519</td>\n",
       "      <td>10184130</td>\n",
       "      <td>성남시(대장동)</td>\n",
       "      <td>경기도 성남시 분당구 대장동 310</td>\n",
       "      <td>환경부</td>\n",
       "      <td>NaN</td>\n",
       "    </tr>\n",
       "    <tr>\n",
       "      <th>351</th>\n",
       "      <td>20230518</td>\n",
       "      <td>10184040</td>\n",
       "      <td>성남시(한국학중앙연구원)</td>\n",
       "      <td>경기도 성남시 분당구 하오개로 323 한국학중앙연구원</td>\n",
       "      <td>환경부</td>\n",
       "      <td>NaN</td>\n",
       "    </tr>\n",
       "    <tr>\n",
       "      <th>...</th>\n",
       "      <td>...</td>\n",
       "      <td>...</td>\n",
       "      <td>...</td>\n",
       "      <td>...</td>\n",
       "      <td>...</td>\n",
       "      <td>...</td>\n",
       "    </tr>\n",
       "    <tr>\n",
       "      <th>458458</th>\n",
       "      <td>20160102</td>\n",
       "      <td>10184130</td>\n",
       "      <td>성남시(대장동)</td>\n",
       "      <td>경기도 성남시 분당구 대장동 310</td>\n",
       "      <td>환경부</td>\n",
       "      <td>0.0</td>\n",
       "    </tr>\n",
       "    <tr>\n",
       "      <th>458601</th>\n",
       "      <td>20160101</td>\n",
       "      <td>10184040</td>\n",
       "      <td>성남시(한국학중앙연구원)</td>\n",
       "      <td>경기도 성남시 분당구 하오개로 323 한국학중앙연구원</td>\n",
       "      <td>환경부</td>\n",
       "      <td>0.0</td>\n",
       "    </tr>\n",
       "    <tr>\n",
       "      <th>458643</th>\n",
       "      <td>20160101</td>\n",
       "      <td>10184230</td>\n",
       "      <td>성남시(구미초교)</td>\n",
       "      <td>경기도 성남시 분당구 미금로 22번길 25 구미초등학교</td>\n",
       "      <td>환경부</td>\n",
       "      <td>0.0</td>\n",
       "    </tr>\n",
       "    <tr>\n",
       "      <th>458655</th>\n",
       "      <td>20160101</td>\n",
       "      <td>10184180</td>\n",
       "      <td>성남시(성남북초교)</td>\n",
       "      <td>경기도 성남시 수정구 희망로 534번길 3 성남북초등학교</td>\n",
       "      <td>환경부</td>\n",
       "      <td>0.0</td>\n",
       "    </tr>\n",
       "    <tr>\n",
       "      <th>458707</th>\n",
       "      <td>20160101</td>\n",
       "      <td>10184130</td>\n",
       "      <td>성남시(대장동)</td>\n",
       "      <td>경기도 성남시 분당구 대장동 310</td>\n",
       "      <td>환경부</td>\n",
       "      <td>0.0</td>\n",
       "    </tr>\n",
       "  </tbody>\n",
       "</table>\n",
       "<p>7976 rows × 6 columns</p>\n",
       "</div>"
      ],
      "text/plain": [
       "         강수량관측일자  강수량관측소구분코드        강수량관측소명                         강수량관측소주소  \\\n",
       "49      20230519    10184040  성남시(한국학중앙연구원)    경기도 성남시 분당구 하오개로 323 한국학중앙연구원   \n",
       "62      20230519    10184180     성남시(성남북초교)  경기도 성남시 수정구 희망로 534번길 3 성남북초등학교   \n",
       "67      20230519    10184230      성남시(구미초교)   경기도 성남시 분당구 미금로 22번길 25 구미초등학교   \n",
       "144     20230519    10184130       성남시(대장동)              경기도 성남시 분당구 대장동 310   \n",
       "351     20230518    10184040  성남시(한국학중앙연구원)    경기도 성남시 분당구 하오개로 323 한국학중앙연구원   \n",
       "...          ...         ...            ...                              ...   \n",
       "458458  20160102    10184130       성남시(대장동)              경기도 성남시 분당구 대장동 310   \n",
       "458601  20160101    10184040  성남시(한국학중앙연구원)    경기도 성남시 분당구 하오개로 323 한국학중앙연구원   \n",
       "458643  20160101    10184230      성남시(구미초교)   경기도 성남시 분당구 미금로 22번길 25 구미초등학교   \n",
       "458655  20160101    10184180     성남시(성남북초교)  경기도 성남시 수정구 희망로 534번길 3 성남북초등학교   \n",
       "458707  20160101    10184130       성남시(대장동)              경기도 성남시 분당구 대장동 310   \n",
       "\n",
       "       관할기관명  강수량자료값(mm)  \n",
       "49       환경부         NaN  \n",
       "62       환경부         NaN  \n",
       "67       환경부         NaN  \n",
       "144      환경부         NaN  \n",
       "351      환경부         NaN  \n",
       "...      ...         ...  \n",
       "458458   환경부         0.0  \n",
       "458601   환경부         0.0  \n",
       "458643   환경부         0.0  \n",
       "458655   환경부         0.0  \n",
       "458707   환경부         0.0  \n",
       "\n",
       "[7976 rows x 6 columns]"
      ]
     },
     "execution_count": 4,
     "metadata": {},
     "output_type": "execute_result"
    }
   ],
   "source": [
    "df1 = df[df['강수량관측소주소'].str.contains('성남시')]\n",
    "df1"
   ]
  },
  {
   "cell_type": "code",
   "execution_count": 5,
   "metadata": {},
   "outputs": [
    {
     "data": {
      "text/plain": [
       "강수량관측일자       0\n",
       "강수량관측소구분코드    0\n",
       "강수량관측소명       0\n",
       "강수량관측소주소      0\n",
       "관할기관명         0\n",
       "강수량자료값(mm)    0\n",
       "dtype: int64"
      ]
     },
     "execution_count": 5,
     "metadata": {},
     "output_type": "execute_result"
    }
   ],
   "source": [
    "df1 = df1.fillna(0)\n",
    "df1.isnull().sum()"
   ]
  },
  {
   "cell_type": "code",
   "execution_count": 6,
   "metadata": {},
   "outputs": [],
   "source": [
    "df1['강수량관측일자'] = df1['강수량관측일자'].astype(str)"
   ]
  },
  {
   "cell_type": "code",
   "execution_count": 7,
   "metadata": {},
   "outputs": [],
   "source": [
    "df1['강수량관측일자'] = pd.to_datetime(df1['강수량관측일자'])"
   ]
  },
  {
   "cell_type": "code",
   "execution_count": 8,
   "metadata": {},
   "outputs": [
    {
     "data": {
      "text/html": [
       "<div>\n",
       "<style scoped>\n",
       "    .dataframe tbody tr th:only-of-type {\n",
       "        vertical-align: middle;\n",
       "    }\n",
       "\n",
       "    .dataframe tbody tr th {\n",
       "        vertical-align: top;\n",
       "    }\n",
       "\n",
       "    .dataframe thead th {\n",
       "        text-align: right;\n",
       "    }\n",
       "</style>\n",
       "<table border=\"1\" class=\"dataframe\">\n",
       "  <thead>\n",
       "    <tr style=\"text-align: right;\">\n",
       "      <th></th>\n",
       "      <th>강수량관측일자</th>\n",
       "      <th>강수량관측소구분코드</th>\n",
       "      <th>강수량관측소명</th>\n",
       "      <th>강수량관측소주소</th>\n",
       "      <th>관할기관명</th>\n",
       "      <th>강수량자료값(mm)</th>\n",
       "      <th>year</th>\n",
       "      <th>month</th>\n",
       "      <th>day</th>\n",
       "    </tr>\n",
       "  </thead>\n",
       "  <tbody>\n",
       "    <tr>\n",
       "      <th>49</th>\n",
       "      <td>2023-05-19</td>\n",
       "      <td>10184040</td>\n",
       "      <td>성남시(한국학중앙연구원)</td>\n",
       "      <td>경기도 성남시 분당구 하오개로 323 한국학중앙연구원</td>\n",
       "      <td>환경부</td>\n",
       "      <td>0.0</td>\n",
       "      <td>2023</td>\n",
       "      <td>5</td>\n",
       "      <td>19</td>\n",
       "    </tr>\n",
       "    <tr>\n",
       "      <th>62</th>\n",
       "      <td>2023-05-19</td>\n",
       "      <td>10184180</td>\n",
       "      <td>성남시(성남북초교)</td>\n",
       "      <td>경기도 성남시 수정구 희망로 534번길 3 성남북초등학교</td>\n",
       "      <td>환경부</td>\n",
       "      <td>0.0</td>\n",
       "      <td>2023</td>\n",
       "      <td>5</td>\n",
       "      <td>19</td>\n",
       "    </tr>\n",
       "    <tr>\n",
       "      <th>67</th>\n",
       "      <td>2023-05-19</td>\n",
       "      <td>10184230</td>\n",
       "      <td>성남시(구미초교)</td>\n",
       "      <td>경기도 성남시 분당구 미금로 22번길 25 구미초등학교</td>\n",
       "      <td>환경부</td>\n",
       "      <td>0.0</td>\n",
       "      <td>2023</td>\n",
       "      <td>5</td>\n",
       "      <td>19</td>\n",
       "    </tr>\n",
       "    <tr>\n",
       "      <th>144</th>\n",
       "      <td>2023-05-19</td>\n",
       "      <td>10184130</td>\n",
       "      <td>성남시(대장동)</td>\n",
       "      <td>경기도 성남시 분당구 대장동 310</td>\n",
       "      <td>환경부</td>\n",
       "      <td>0.0</td>\n",
       "      <td>2023</td>\n",
       "      <td>5</td>\n",
       "      <td>19</td>\n",
       "    </tr>\n",
       "    <tr>\n",
       "      <th>351</th>\n",
       "      <td>2023-05-18</td>\n",
       "      <td>10184040</td>\n",
       "      <td>성남시(한국학중앙연구원)</td>\n",
       "      <td>경기도 성남시 분당구 하오개로 323 한국학중앙연구원</td>\n",
       "      <td>환경부</td>\n",
       "      <td>0.0</td>\n",
       "      <td>2023</td>\n",
       "      <td>5</td>\n",
       "      <td>18</td>\n",
       "    </tr>\n",
       "    <tr>\n",
       "      <th>...</th>\n",
       "      <td>...</td>\n",
       "      <td>...</td>\n",
       "      <td>...</td>\n",
       "      <td>...</td>\n",
       "      <td>...</td>\n",
       "      <td>...</td>\n",
       "      <td>...</td>\n",
       "      <td>...</td>\n",
       "      <td>...</td>\n",
       "    </tr>\n",
       "    <tr>\n",
       "      <th>458458</th>\n",
       "      <td>2016-01-02</td>\n",
       "      <td>10184130</td>\n",
       "      <td>성남시(대장동)</td>\n",
       "      <td>경기도 성남시 분당구 대장동 310</td>\n",
       "      <td>환경부</td>\n",
       "      <td>0.0</td>\n",
       "      <td>2016</td>\n",
       "      <td>1</td>\n",
       "      <td>2</td>\n",
       "    </tr>\n",
       "    <tr>\n",
       "      <th>458601</th>\n",
       "      <td>2016-01-01</td>\n",
       "      <td>10184040</td>\n",
       "      <td>성남시(한국학중앙연구원)</td>\n",
       "      <td>경기도 성남시 분당구 하오개로 323 한국학중앙연구원</td>\n",
       "      <td>환경부</td>\n",
       "      <td>0.0</td>\n",
       "      <td>2016</td>\n",
       "      <td>1</td>\n",
       "      <td>1</td>\n",
       "    </tr>\n",
       "    <tr>\n",
       "      <th>458643</th>\n",
       "      <td>2016-01-01</td>\n",
       "      <td>10184230</td>\n",
       "      <td>성남시(구미초교)</td>\n",
       "      <td>경기도 성남시 분당구 미금로 22번길 25 구미초등학교</td>\n",
       "      <td>환경부</td>\n",
       "      <td>0.0</td>\n",
       "      <td>2016</td>\n",
       "      <td>1</td>\n",
       "      <td>1</td>\n",
       "    </tr>\n",
       "    <tr>\n",
       "      <th>458655</th>\n",
       "      <td>2016-01-01</td>\n",
       "      <td>10184180</td>\n",
       "      <td>성남시(성남북초교)</td>\n",
       "      <td>경기도 성남시 수정구 희망로 534번길 3 성남북초등학교</td>\n",
       "      <td>환경부</td>\n",
       "      <td>0.0</td>\n",
       "      <td>2016</td>\n",
       "      <td>1</td>\n",
       "      <td>1</td>\n",
       "    </tr>\n",
       "    <tr>\n",
       "      <th>458707</th>\n",
       "      <td>2016-01-01</td>\n",
       "      <td>10184130</td>\n",
       "      <td>성남시(대장동)</td>\n",
       "      <td>경기도 성남시 분당구 대장동 310</td>\n",
       "      <td>환경부</td>\n",
       "      <td>0.0</td>\n",
       "      <td>2016</td>\n",
       "      <td>1</td>\n",
       "      <td>1</td>\n",
       "    </tr>\n",
       "  </tbody>\n",
       "</table>\n",
       "<p>7976 rows × 9 columns</p>\n",
       "</div>"
      ],
      "text/plain": [
       "          강수량관측일자  강수량관측소구분코드        강수량관측소명                         강수량관측소주소  \\\n",
       "49     2023-05-19    10184040  성남시(한국학중앙연구원)    경기도 성남시 분당구 하오개로 323 한국학중앙연구원   \n",
       "62     2023-05-19    10184180     성남시(성남북초교)  경기도 성남시 수정구 희망로 534번길 3 성남북초등학교   \n",
       "67     2023-05-19    10184230      성남시(구미초교)   경기도 성남시 분당구 미금로 22번길 25 구미초등학교   \n",
       "144    2023-05-19    10184130       성남시(대장동)              경기도 성남시 분당구 대장동 310   \n",
       "351    2023-05-18    10184040  성남시(한국학중앙연구원)    경기도 성남시 분당구 하오개로 323 한국학중앙연구원   \n",
       "...           ...         ...            ...                              ...   \n",
       "458458 2016-01-02    10184130       성남시(대장동)              경기도 성남시 분당구 대장동 310   \n",
       "458601 2016-01-01    10184040  성남시(한국학중앙연구원)    경기도 성남시 분당구 하오개로 323 한국학중앙연구원   \n",
       "458643 2016-01-01    10184230      성남시(구미초교)   경기도 성남시 분당구 미금로 22번길 25 구미초등학교   \n",
       "458655 2016-01-01    10184180     성남시(성남북초교)  경기도 성남시 수정구 희망로 534번길 3 성남북초등학교   \n",
       "458707 2016-01-01    10184130       성남시(대장동)              경기도 성남시 분당구 대장동 310   \n",
       "\n",
       "       관할기관명  강수량자료값(mm)  year  month  day  \n",
       "49       환경부         0.0  2023      5   19  \n",
       "62       환경부         0.0  2023      5   19  \n",
       "67       환경부         0.0  2023      5   19  \n",
       "144      환경부         0.0  2023      5   19  \n",
       "351      환경부         0.0  2023      5   18  \n",
       "...      ...         ...   ...    ...  ...  \n",
       "458458   환경부         0.0  2016      1    2  \n",
       "458601   환경부         0.0  2016      1    1  \n",
       "458643   환경부         0.0  2016      1    1  \n",
       "458655   환경부         0.0  2016      1    1  \n",
       "458707   환경부         0.0  2016      1    1  \n",
       "\n",
       "[7976 rows x 9 columns]"
      ]
     },
     "execution_count": 8,
     "metadata": {},
     "output_type": "execute_result"
    }
   ],
   "source": [
    "df1['year'] = pd.DatetimeIndex(df1['강수량관측일자']).year\n",
    "df1['month'] = pd.DatetimeIndex(df1['강수량관측일자']).month\n",
    "df1['day'] = pd.DatetimeIndex(df1['강수량관측일자']).day\n",
    "df1"
   ]
  },
  {
   "cell_type": "code",
   "execution_count": 9,
   "metadata": {},
   "outputs": [
    {
     "data": {
      "text/html": [
       "<div>\n",
       "<style scoped>\n",
       "    .dataframe tbody tr th:only-of-type {\n",
       "        vertical-align: middle;\n",
       "    }\n",
       "\n",
       "    .dataframe tbody tr th {\n",
       "        vertical-align: top;\n",
       "    }\n",
       "\n",
       "    .dataframe thead th {\n",
       "        text-align: right;\n",
       "    }\n",
       "</style>\n",
       "<table border=\"1\" class=\"dataframe\">\n",
       "  <thead>\n",
       "    <tr style=\"text-align: right;\">\n",
       "      <th></th>\n",
       "      <th>강수량관측소구분코드</th>\n",
       "      <th>강수량관측소명</th>\n",
       "      <th>강수량관측소주소</th>\n",
       "      <th>관할기관명</th>\n",
       "      <th>강수량자료값(mm)</th>\n",
       "      <th>year</th>\n",
       "      <th>month</th>\n",
       "      <th>day</th>\n",
       "    </tr>\n",
       "    <tr>\n",
       "      <th>강수량관측일자</th>\n",
       "      <th></th>\n",
       "      <th></th>\n",
       "      <th></th>\n",
       "      <th></th>\n",
       "      <th></th>\n",
       "      <th></th>\n",
       "      <th></th>\n",
       "      <th></th>\n",
       "    </tr>\n",
       "  </thead>\n",
       "  <tbody>\n",
       "    <tr>\n",
       "      <th>2016-01-01</th>\n",
       "      <td>10184130</td>\n",
       "      <td>성남시(대장동)</td>\n",
       "      <td>경기도 성남시 분당구 대장동 310</td>\n",
       "      <td>환경부</td>\n",
       "      <td>0.0</td>\n",
       "      <td>2016</td>\n",
       "      <td>1</td>\n",
       "      <td>1</td>\n",
       "    </tr>\n",
       "    <tr>\n",
       "      <th>2016-01-01</th>\n",
       "      <td>10184040</td>\n",
       "      <td>성남시(한국학중앙연구원)</td>\n",
       "      <td>경기도 성남시 분당구 하오개로 323 한국학중앙연구원</td>\n",
       "      <td>환경부</td>\n",
       "      <td>0.0</td>\n",
       "      <td>2016</td>\n",
       "      <td>1</td>\n",
       "      <td>1</td>\n",
       "    </tr>\n",
       "    <tr>\n",
       "      <th>2016-01-01</th>\n",
       "      <td>10184180</td>\n",
       "      <td>성남시(성남북초교)</td>\n",
       "      <td>경기도 성남시 수정구 희망로 534번길 3 성남북초등학교</td>\n",
       "      <td>환경부</td>\n",
       "      <td>0.0</td>\n",
       "      <td>2016</td>\n",
       "      <td>1</td>\n",
       "      <td>1</td>\n",
       "    </tr>\n",
       "    <tr>\n",
       "      <th>2016-01-01</th>\n",
       "      <td>10184230</td>\n",
       "      <td>성남시(구미초교)</td>\n",
       "      <td>경기도 성남시 분당구 미금로 22번길 25 구미초등학교</td>\n",
       "      <td>환경부</td>\n",
       "      <td>0.0</td>\n",
       "      <td>2016</td>\n",
       "      <td>1</td>\n",
       "      <td>1</td>\n",
       "    </tr>\n",
       "    <tr>\n",
       "      <th>2016-01-02</th>\n",
       "      <td>10184040</td>\n",
       "      <td>성남시(한국학중앙연구원)</td>\n",
       "      <td>경기도 성남시 분당구 하오개로 323 한국학중앙연구원</td>\n",
       "      <td>환경부</td>\n",
       "      <td>0.0</td>\n",
       "      <td>2016</td>\n",
       "      <td>1</td>\n",
       "      <td>2</td>\n",
       "    </tr>\n",
       "  </tbody>\n",
       "</table>\n",
       "</div>"
      ],
      "text/plain": [
       "            강수량관측소구분코드        강수량관측소명                         강수량관측소주소 관할기관명  \\\n",
       "강수량관측일자                                                                        \n",
       "2016-01-01    10184130       성남시(대장동)              경기도 성남시 분당구 대장동 310   환경부   \n",
       "2016-01-01    10184040  성남시(한국학중앙연구원)    경기도 성남시 분당구 하오개로 323 한국학중앙연구원   환경부   \n",
       "2016-01-01    10184180     성남시(성남북초교)  경기도 성남시 수정구 희망로 534번길 3 성남북초등학교   환경부   \n",
       "2016-01-01    10184230      성남시(구미초교)   경기도 성남시 분당구 미금로 22번길 25 구미초등학교   환경부   \n",
       "2016-01-02    10184040  성남시(한국학중앙연구원)    경기도 성남시 분당구 하오개로 323 한국학중앙연구원   환경부   \n",
       "\n",
       "            강수량자료값(mm)  year  month  day  \n",
       "강수량관측일자                                   \n",
       "2016-01-01         0.0  2016      1    1  \n",
       "2016-01-01         0.0  2016      1    1  \n",
       "2016-01-01         0.0  2016      1    1  \n",
       "2016-01-01         0.0  2016      1    1  \n",
       "2016-01-02         0.0  2016      1    2  "
      ]
     },
     "execution_count": 9,
     "metadata": {},
     "output_type": "execute_result"
    }
   ],
   "source": [
    "df1.set_index('강수량관측일자',inplace=True)\n",
    "df1 = df1.sort_index()\n",
    "df1.head()"
   ]
  },
  {
   "cell_type": "code",
   "execution_count": 10,
   "metadata": {},
   "outputs": [
    {
     "name": "stdout",
     "output_type": "stream",
     "text": [
      "<class 'pandas.core.frame.DataFrame'>\n",
      "DatetimeIndex: 7976 entries, 2016-01-01 to 2023-05-19\n",
      "Data columns (total 8 columns):\n",
      " #   Column      Non-Null Count  Dtype  \n",
      "---  ------      --------------  -----  \n",
      " 0   강수량관측소구분코드  7976 non-null   int64  \n",
      " 1   강수량관측소명     7976 non-null   object \n",
      " 2   강수량관측소주소    7976 non-null   object \n",
      " 3   관할기관명       7976 non-null   object \n",
      " 4   강수량자료값(mm)  7976 non-null   float64\n",
      " 5   year        7976 non-null   int64  \n",
      " 6   month       7976 non-null   int64  \n",
      " 7   day         7976 non-null   int64  \n",
      "dtypes: float64(1), int64(4), object(3)\n",
      "memory usage: 560.8+ KB\n"
     ]
    }
   ],
   "source": [
    "df1.info()"
   ]
  },
  {
   "cell_type": "code",
   "execution_count": 11,
   "metadata": {},
   "outputs": [
    {
     "data": {
      "text/plain": [
       "10184130    1994\n",
       "10184040    1994\n",
       "10184180    1994\n",
       "10184230    1994\n",
       "Name: 강수량관측소구분코드, dtype: int64"
      ]
     },
     "execution_count": 11,
     "metadata": {},
     "output_type": "execute_result"
    }
   ],
   "source": [
    "df1['강수량관측소구분코드'].value_counts()"
   ]
  },
  {
   "cell_type": "markdown",
   "metadata": {},
   "source": [
    "## 관측소별 데이터"
   ]
  },
  {
   "cell_type": "code",
   "execution_count": 12,
   "metadata": {},
   "outputs": [],
   "source": [
    "data040= df1[df1['강수량관측소구분코드']==10184040]\n",
    "data180= df1[df1['강수량관측소구분코드']==10184180]\n",
    "data230= df1[df1['강수량관측소구분코드']==10184230]\n",
    "data130= df1[df1['강수량관측소구분코드']==10184130]"
   ]
  },
  {
   "cell_type": "code",
   "execution_count": 13,
   "metadata": {},
   "outputs": [
    {
     "data": {
      "text/plain": [
       "year  month\n",
       "2016  1        31\n",
       "2017  1        31\n",
       "2018  3        31\n",
       "2019  8        31\n",
       "2017  8        31\n",
       "               ..\n",
       "2020  4        21\n",
       "2023  5        19\n",
       "2018  10       14\n",
       "      9         9\n",
       "2017  10        1\n",
       "Length: 71, dtype: int64"
      ]
     },
     "execution_count": 13,
     "metadata": {},
     "output_type": "execute_result"
    }
   ],
   "source": [
    "pd.set_option('display.max_row',10)\n",
    "data040[['year','month']].value_counts()"
   ]
  },
  {
   "cell_type": "markdown",
   "metadata": {},
   "source": [
    "### 10184040관측소 연도별 6, 7, 8월 데이터"
   ]
  },
  {
   "cell_type": "code",
   "execution_count": 14,
   "metadata": {},
   "outputs": [],
   "source": [
    "data0402016=data040[(data040['year']==2016) & ((data040['month']==6)|(data040['month']==7)|(data040['month']==8))]\n",
    "data0402017=data040[(data040['year']==2017) & ((data040['month']==6)|(data040['month']==7)|(data040['month']==8))]\n",
    "data0402018=data040[(data040['year']==2018) & ((data040['month']==6)|(data040['month']==7)|(data040['month']==8))]\n",
    "data0402019=data040[(data040['year']==2019) & ((data040['month']==6)|(data040['month']==7)|(data040['month']==8))]\n",
    "data0402020=data040[(data040['year']==2020) & ((data040['month']==6)|(data040['month']==7)|(data040['month']==8))]\n",
    "data0402021=data040[(data040['year']==2021) & ((data040['month']==6)|(data040['month']==7)|(data040['month']==8))]\n",
    "data0402022=data040[(data040['year']==2022) & ((data040['month']==6)|(data040['month']==7)|(data040['month']==8))]"
   ]
  },
  {
   "cell_type": "markdown",
   "metadata": {},
   "source": [
    "### 10184040관측소 연도별 6, 7, 8월 강수량 데이터"
   ]
  },
  {
   "cell_type": "markdown",
   "metadata": {},
   "source": [
    "* 2016"
   ]
  },
  {
   "cell_type": "code",
   "execution_count": 15,
   "metadata": {
    "scrolled": true
   },
   "outputs": [
    {
     "data": {
      "text/plain": [
       "month\n",
       "6         NaN\n",
       "7    0.214286\n",
       "8         NaN\n",
       "dtype: float64"
      ]
     },
     "execution_count": 15,
     "metadata": {},
     "output_type": "execute_result"
    }
   ],
   "source": [
    "grouped04020161 = data0402016[data0402016['강수량자료값(mm)']> 0 ].groupby(data0402016['month'])\n",
    "grouped04020162 = data0402016[data0402016['강수량자료값(mm)']> 60 ].groupby(data0402016['month'])\n",
    "grouped04020162.size()/grouped04020161.size()"
   ]
  },
  {
   "cell_type": "markdown",
   "metadata": {},
   "source": [
    "* 2017"
   ]
  },
  {
   "cell_type": "code",
   "execution_count": 16,
   "metadata": {},
   "outputs": [
    {
     "data": {
      "text/plain": [
       "month\n",
       "6         NaN\n",
       "7    0.210526\n",
       "8    0.125000\n",
       "dtype: float64"
      ]
     },
     "execution_count": 16,
     "metadata": {},
     "output_type": "execute_result"
    }
   ],
   "source": [
    "grouped04020171 = data0402017[data0402017['강수량자료값(mm)']> 0 ].groupby(data0402017['month'])\n",
    "grouped04020172 = data0402017[data0402017['강수량자료값(mm)']> 60 ].groupby(data0402017['month'])\n",
    "grouped04020172.size()/grouped04020171.size()"
   ]
  },
  {
   "cell_type": "markdown",
   "metadata": {},
   "source": [
    "* 2018"
   ]
  },
  {
   "cell_type": "code",
   "execution_count": 22,
   "metadata": {},
   "outputs": [
    {
     "data": {
      "text/plain": [
       "month\n",
       "6    0.166667\n",
       "7    0.250000\n",
       "8    0.100000\n",
       "dtype: float64"
      ]
     },
     "execution_count": 22,
     "metadata": {},
     "output_type": "execute_result"
    }
   ],
   "source": [
    "grouped04020181 = data0402018[data0402018['강수량자료값(mm)']> 0 ].groupby(data0402018['month'])\n",
    "grouped04020182 = data0402018[data0402018['강수량자료값(mm)']> 60 ].groupby(data0402018['month'])\n",
    "grouped04020182.size()/grouped04020181.size()"
   ]
  },
  {
   "cell_type": "markdown",
   "metadata": {},
   "source": [
    "* 2019"
   ]
  },
  {
   "cell_type": "code",
   "execution_count": 28,
   "metadata": {},
   "outputs": [
    {
     "name": "stderr",
     "output_type": "stream",
     "text": [
      "C:\\Users\\82103\\AppData\\Local\\Temp\\ipykernel_9112\\1552929395.py:1: FutureWarning: reindexing with a non-unique Index is deprecated and will raise in a future version.\n",
      "  grouped04020191 = data0402019[data0402019['강수량자료값(mm)']> 0 ].groupby(data0402019['month'])\n"
     ]
    },
    {
     "ename": "ValueError",
     "evalue": "cannot reindex on an axis with duplicate labels",
     "output_type": "error",
     "traceback": [
      "\u001b[1;31m---------------------------------------------------------------------------\u001b[0m",
      "\u001b[1;31mValueError\u001b[0m                                Traceback (most recent call last)",
      "Cell \u001b[1;32mIn[28], line 1\u001b[0m\n\u001b[1;32m----> 1\u001b[0m grouped04020191 \u001b[38;5;241m=\u001b[39m \u001b[43mdata0402019\u001b[49m\u001b[43m[\u001b[49m\u001b[43mdata0402019\u001b[49m\u001b[43m[\u001b[49m\u001b[38;5;124;43m'\u001b[39;49m\u001b[38;5;124;43m강수량자료값(mm)\u001b[39;49m\u001b[38;5;124;43m'\u001b[39;49m\u001b[43m]\u001b[49m\u001b[38;5;241;43m>\u001b[39;49m\u001b[43m \u001b[49m\u001b[38;5;241;43m0\u001b[39;49m\u001b[43m \u001b[49m\u001b[43m]\u001b[49m\u001b[38;5;241;43m.\u001b[39;49m\u001b[43mgroupby\u001b[49m\u001b[43m(\u001b[49m\u001b[43mdata0402019\u001b[49m\u001b[43m[\u001b[49m\u001b[38;5;124;43m'\u001b[39;49m\u001b[38;5;124;43mmonth\u001b[39;49m\u001b[38;5;124;43m'\u001b[39;49m\u001b[43m]\u001b[49m\u001b[43m)\u001b[49m\n\u001b[0;32m      2\u001b[0m grouped04020192 \u001b[38;5;241m=\u001b[39m data0402019[data0402019[\u001b[38;5;124m'\u001b[39m\u001b[38;5;124m강수량자료값(mm)\u001b[39m\u001b[38;5;124m'\u001b[39m]\u001b[38;5;241m>\u001b[39m \u001b[38;5;241m60\u001b[39m ]\u001b[38;5;241m.\u001b[39mgroupby(data0402019[\u001b[38;5;124m'\u001b[39m\u001b[38;5;124mmonth\u001b[39m\u001b[38;5;124m'\u001b[39m])\n",
      "File \u001b[1;32m~\\anaconda3\\lib\\site-packages\\pandas\\core\\frame.py:8402\u001b[0m, in \u001b[0;36mDataFrame.groupby\u001b[1;34m(self, by, axis, level, as_index, sort, group_keys, squeeze, observed, dropna)\u001b[0m\n\u001b[0;32m   8399\u001b[0m     \u001b[38;5;28;01mraise\u001b[39;00m \u001b[38;5;167;01mTypeError\u001b[39;00m(\u001b[38;5;124m\"\u001b[39m\u001b[38;5;124mYou have to supply one of \u001b[39m\u001b[38;5;124m'\u001b[39m\u001b[38;5;124mby\u001b[39m\u001b[38;5;124m'\u001b[39m\u001b[38;5;124m and \u001b[39m\u001b[38;5;124m'\u001b[39m\u001b[38;5;124mlevel\u001b[39m\u001b[38;5;124m'\u001b[39m\u001b[38;5;124m\"\u001b[39m)\n\u001b[0;32m   8400\u001b[0m axis \u001b[38;5;241m=\u001b[39m \u001b[38;5;28mself\u001b[39m\u001b[38;5;241m.\u001b[39m_get_axis_number(axis)\n\u001b[1;32m-> 8402\u001b[0m \u001b[38;5;28;01mreturn\u001b[39;00m \u001b[43mDataFrameGroupBy\u001b[49m\u001b[43m(\u001b[49m\n\u001b[0;32m   8403\u001b[0m \u001b[43m    \u001b[49m\u001b[43mobj\u001b[49m\u001b[38;5;241;43m=\u001b[39;49m\u001b[38;5;28;43mself\u001b[39;49m\u001b[43m,\u001b[49m\n\u001b[0;32m   8404\u001b[0m \u001b[43m    \u001b[49m\u001b[43mkeys\u001b[49m\u001b[38;5;241;43m=\u001b[39;49m\u001b[43mby\u001b[49m\u001b[43m,\u001b[49m\n\u001b[0;32m   8405\u001b[0m \u001b[43m    \u001b[49m\u001b[43maxis\u001b[49m\u001b[38;5;241;43m=\u001b[39;49m\u001b[43maxis\u001b[49m\u001b[43m,\u001b[49m\n\u001b[0;32m   8406\u001b[0m \u001b[43m    \u001b[49m\u001b[43mlevel\u001b[49m\u001b[38;5;241;43m=\u001b[39;49m\u001b[43mlevel\u001b[49m\u001b[43m,\u001b[49m\n\u001b[0;32m   8407\u001b[0m \u001b[43m    \u001b[49m\u001b[43mas_index\u001b[49m\u001b[38;5;241;43m=\u001b[39;49m\u001b[43mas_index\u001b[49m\u001b[43m,\u001b[49m\n\u001b[0;32m   8408\u001b[0m \u001b[43m    \u001b[49m\u001b[43msort\u001b[49m\u001b[38;5;241;43m=\u001b[39;49m\u001b[43msort\u001b[49m\u001b[43m,\u001b[49m\n\u001b[0;32m   8409\u001b[0m \u001b[43m    \u001b[49m\u001b[43mgroup_keys\u001b[49m\u001b[38;5;241;43m=\u001b[39;49m\u001b[43mgroup_keys\u001b[49m\u001b[43m,\u001b[49m\n\u001b[0;32m   8410\u001b[0m \u001b[43m    \u001b[49m\u001b[43msqueeze\u001b[49m\u001b[38;5;241;43m=\u001b[39;49m\u001b[43msqueeze\u001b[49m\u001b[43m,\u001b[49m\n\u001b[0;32m   8411\u001b[0m \u001b[43m    \u001b[49m\u001b[43mobserved\u001b[49m\u001b[38;5;241;43m=\u001b[39;49m\u001b[43mobserved\u001b[49m\u001b[43m,\u001b[49m\n\u001b[0;32m   8412\u001b[0m \u001b[43m    \u001b[49m\u001b[43mdropna\u001b[49m\u001b[38;5;241;43m=\u001b[39;49m\u001b[43mdropna\u001b[49m\u001b[43m,\u001b[49m\n\u001b[0;32m   8413\u001b[0m \u001b[43m\u001b[49m\u001b[43m)\u001b[49m\n",
      "File \u001b[1;32m~\\anaconda3\\lib\\site-packages\\pandas\\core\\groupby\\groupby.py:965\u001b[0m, in \u001b[0;36mGroupBy.__init__\u001b[1;34m(self, obj, keys, axis, level, grouper, exclusions, selection, as_index, sort, group_keys, squeeze, observed, mutated, dropna)\u001b[0m\n\u001b[0;32m    962\u001b[0m \u001b[38;5;28;01mif\u001b[39;00m grouper \u001b[38;5;129;01mis\u001b[39;00m \u001b[38;5;28;01mNone\u001b[39;00m:\n\u001b[0;32m    963\u001b[0m     \u001b[38;5;28;01mfrom\u001b[39;00m \u001b[38;5;21;01mpandas\u001b[39;00m\u001b[38;5;21;01m.\u001b[39;00m\u001b[38;5;21;01mcore\u001b[39;00m\u001b[38;5;21;01m.\u001b[39;00m\u001b[38;5;21;01mgroupby\u001b[39;00m\u001b[38;5;21;01m.\u001b[39;00m\u001b[38;5;21;01mgrouper\u001b[39;00m \u001b[38;5;28;01mimport\u001b[39;00m get_grouper\n\u001b[1;32m--> 965\u001b[0m     grouper, exclusions, obj \u001b[38;5;241m=\u001b[39m \u001b[43mget_grouper\u001b[49m\u001b[43m(\u001b[49m\n\u001b[0;32m    966\u001b[0m \u001b[43m        \u001b[49m\u001b[43mobj\u001b[49m\u001b[43m,\u001b[49m\n\u001b[0;32m    967\u001b[0m \u001b[43m        \u001b[49m\u001b[43mkeys\u001b[49m\u001b[43m,\u001b[49m\n\u001b[0;32m    968\u001b[0m \u001b[43m        \u001b[49m\u001b[43maxis\u001b[49m\u001b[38;5;241;43m=\u001b[39;49m\u001b[43maxis\u001b[49m\u001b[43m,\u001b[49m\n\u001b[0;32m    969\u001b[0m \u001b[43m        \u001b[49m\u001b[43mlevel\u001b[49m\u001b[38;5;241;43m=\u001b[39;49m\u001b[43mlevel\u001b[49m\u001b[43m,\u001b[49m\n\u001b[0;32m    970\u001b[0m \u001b[43m        \u001b[49m\u001b[43msort\u001b[49m\u001b[38;5;241;43m=\u001b[39;49m\u001b[43msort\u001b[49m\u001b[43m,\u001b[49m\n\u001b[0;32m    971\u001b[0m \u001b[43m        \u001b[49m\u001b[43mobserved\u001b[49m\u001b[38;5;241;43m=\u001b[39;49m\u001b[43mobserved\u001b[49m\u001b[43m,\u001b[49m\n\u001b[0;32m    972\u001b[0m \u001b[43m        \u001b[49m\u001b[43mmutated\u001b[49m\u001b[38;5;241;43m=\u001b[39;49m\u001b[38;5;28;43mself\u001b[39;49m\u001b[38;5;241;43m.\u001b[39;49m\u001b[43mmutated\u001b[49m\u001b[43m,\u001b[49m\n\u001b[0;32m    973\u001b[0m \u001b[43m        \u001b[49m\u001b[43mdropna\u001b[49m\u001b[38;5;241;43m=\u001b[39;49m\u001b[38;5;28;43mself\u001b[39;49m\u001b[38;5;241;43m.\u001b[39;49m\u001b[43mdropna\u001b[49m\u001b[43m,\u001b[49m\n\u001b[0;32m    974\u001b[0m \u001b[43m    \u001b[49m\u001b[43m)\u001b[49m\n\u001b[0;32m    976\u001b[0m \u001b[38;5;28mself\u001b[39m\u001b[38;5;241m.\u001b[39mobj \u001b[38;5;241m=\u001b[39m obj\n\u001b[0;32m    977\u001b[0m \u001b[38;5;28mself\u001b[39m\u001b[38;5;241m.\u001b[39maxis \u001b[38;5;241m=\u001b[39m obj\u001b[38;5;241m.\u001b[39m_get_axis_number(axis)\n",
      "File \u001b[1;32m~\\anaconda3\\lib\\site-packages\\pandas\\core\\groupby\\grouper.py:899\u001b[0m, in \u001b[0;36mget_grouper\u001b[1;34m(obj, key, axis, level, sort, observed, mutated, validate, dropna)\u001b[0m\n\u001b[0;32m    894\u001b[0m         in_axis \u001b[38;5;241m=\u001b[39m \u001b[38;5;28;01mFalse\u001b[39;00m\n\u001b[0;32m    896\u001b[0m     \u001b[38;5;66;03m# create the Grouping\u001b[39;00m\n\u001b[0;32m    897\u001b[0m     \u001b[38;5;66;03m# allow us to passing the actual Grouping as the gpr\u001b[39;00m\n\u001b[0;32m    898\u001b[0m     ping \u001b[38;5;241m=\u001b[39m (\n\u001b[1;32m--> 899\u001b[0m         \u001b[43mGrouping\u001b[49m\u001b[43m(\u001b[49m\n\u001b[0;32m    900\u001b[0m \u001b[43m            \u001b[49m\u001b[43mgroup_axis\u001b[49m\u001b[43m,\u001b[49m\n\u001b[0;32m    901\u001b[0m \u001b[43m            \u001b[49m\u001b[43mgpr\u001b[49m\u001b[43m,\u001b[49m\n\u001b[0;32m    902\u001b[0m \u001b[43m            \u001b[49m\u001b[43mobj\u001b[49m\u001b[38;5;241;43m=\u001b[39;49m\u001b[43mobj\u001b[49m\u001b[43m,\u001b[49m\n\u001b[0;32m    903\u001b[0m \u001b[43m            \u001b[49m\u001b[43mlevel\u001b[49m\u001b[38;5;241;43m=\u001b[39;49m\u001b[43mlevel\u001b[49m\u001b[43m,\u001b[49m\n\u001b[0;32m    904\u001b[0m \u001b[43m            \u001b[49m\u001b[43msort\u001b[49m\u001b[38;5;241;43m=\u001b[39;49m\u001b[43msort\u001b[49m\u001b[43m,\u001b[49m\n\u001b[0;32m    905\u001b[0m \u001b[43m            \u001b[49m\u001b[43mobserved\u001b[49m\u001b[38;5;241;43m=\u001b[39;49m\u001b[43mobserved\u001b[49m\u001b[43m,\u001b[49m\n\u001b[0;32m    906\u001b[0m \u001b[43m            \u001b[49m\u001b[43min_axis\u001b[49m\u001b[38;5;241;43m=\u001b[39;49m\u001b[43min_axis\u001b[49m\u001b[43m,\u001b[49m\n\u001b[0;32m    907\u001b[0m \u001b[43m            \u001b[49m\u001b[43mdropna\u001b[49m\u001b[38;5;241;43m=\u001b[39;49m\u001b[43mdropna\u001b[49m\u001b[43m,\u001b[49m\n\u001b[0;32m    908\u001b[0m \u001b[43m        \u001b[49m\u001b[43m)\u001b[49m\n\u001b[0;32m    909\u001b[0m         \u001b[38;5;28;01mif\u001b[39;00m \u001b[38;5;129;01mnot\u001b[39;00m \u001b[38;5;28misinstance\u001b[39m(gpr, Grouping)\n\u001b[0;32m    910\u001b[0m         \u001b[38;5;28;01melse\u001b[39;00m gpr\n\u001b[0;32m    911\u001b[0m     )\n\u001b[0;32m    913\u001b[0m     groupings\u001b[38;5;241m.\u001b[39mappend(ping)\n\u001b[0;32m    915\u001b[0m \u001b[38;5;28;01mif\u001b[39;00m \u001b[38;5;28mlen\u001b[39m(groupings) \u001b[38;5;241m==\u001b[39m \u001b[38;5;241m0\u001b[39m \u001b[38;5;129;01mand\u001b[39;00m \u001b[38;5;28mlen\u001b[39m(obj):\n",
      "File \u001b[1;32m~\\anaconda3\\lib\\site-packages\\pandas\\core\\groupby\\grouper.py:480\u001b[0m, in \u001b[0;36mGrouping.__init__\u001b[1;34m(self, index, grouper, obj, level, sort, observed, in_axis, dropna)\u001b[0m\n\u001b[0;32m    478\u001b[0m \u001b[38;5;28mself\u001b[39m\u001b[38;5;241m.\u001b[39mlevel \u001b[38;5;241m=\u001b[39m level\n\u001b[0;32m    479\u001b[0m \u001b[38;5;28mself\u001b[39m\u001b[38;5;241m.\u001b[39m_orig_grouper \u001b[38;5;241m=\u001b[39m grouper\n\u001b[1;32m--> 480\u001b[0m \u001b[38;5;28mself\u001b[39m\u001b[38;5;241m.\u001b[39mgrouping_vector \u001b[38;5;241m=\u001b[39m \u001b[43m_convert_grouper\u001b[49m\u001b[43m(\u001b[49m\u001b[43mindex\u001b[49m\u001b[43m,\u001b[49m\u001b[43m \u001b[49m\u001b[43mgrouper\u001b[49m\u001b[43m)\u001b[49m\n\u001b[0;32m    481\u001b[0m \u001b[38;5;28mself\u001b[39m\u001b[38;5;241m.\u001b[39m_all_grouper \u001b[38;5;241m=\u001b[39m \u001b[38;5;28;01mNone\u001b[39;00m\n\u001b[0;32m    482\u001b[0m \u001b[38;5;28mself\u001b[39m\u001b[38;5;241m.\u001b[39m_index \u001b[38;5;241m=\u001b[39m index\n",
      "File \u001b[1;32m~\\anaconda3\\lib\\site-packages\\pandas\\core\\groupby\\grouper.py:938\u001b[0m, in \u001b[0;36m_convert_grouper\u001b[1;34m(axis, grouper)\u001b[0m\n\u001b[0;32m    936\u001b[0m         \u001b[38;5;28;01mreturn\u001b[39;00m grouper\u001b[38;5;241m.\u001b[39m_values\n\u001b[0;32m    937\u001b[0m     \u001b[38;5;28;01melse\u001b[39;00m:\n\u001b[1;32m--> 938\u001b[0m         \u001b[38;5;28;01mreturn\u001b[39;00m \u001b[43mgrouper\u001b[49m\u001b[38;5;241;43m.\u001b[39;49m\u001b[43mreindex\u001b[49m\u001b[43m(\u001b[49m\u001b[43maxis\u001b[49m\u001b[43m)\u001b[49m\u001b[38;5;241m.\u001b[39m_values\n\u001b[0;32m    939\u001b[0m \u001b[38;5;28;01melif\u001b[39;00m \u001b[38;5;28misinstance\u001b[39m(grouper, MultiIndex):\n\u001b[0;32m    940\u001b[0m     \u001b[38;5;28;01mreturn\u001b[39;00m grouper\u001b[38;5;241m.\u001b[39m_values\n",
      "File \u001b[1;32m~\\anaconda3\\lib\\site-packages\\pandas\\core\\series.py:5094\u001b[0m, in \u001b[0;36mSeries.reindex\u001b[1;34m(self, *args, **kwargs)\u001b[0m\n\u001b[0;32m   5090\u001b[0m         \u001b[38;5;28;01mraise\u001b[39;00m \u001b[38;5;167;01mTypeError\u001b[39;00m(\n\u001b[0;32m   5091\u001b[0m             \u001b[38;5;124m\"\u001b[39m\u001b[38;5;124m'\u001b[39m\u001b[38;5;124mindex\u001b[39m\u001b[38;5;124m'\u001b[39m\u001b[38;5;124m passed as both positional and keyword argument\u001b[39m\u001b[38;5;124m\"\u001b[39m\n\u001b[0;32m   5092\u001b[0m         )\n\u001b[0;32m   5093\u001b[0m     kwargs\u001b[38;5;241m.\u001b[39mupdate({\u001b[38;5;124m\"\u001b[39m\u001b[38;5;124mindex\u001b[39m\u001b[38;5;124m\"\u001b[39m: index})\n\u001b[1;32m-> 5094\u001b[0m \u001b[38;5;28;01mreturn\u001b[39;00m \u001b[38;5;28msuper\u001b[39m()\u001b[38;5;241m.\u001b[39mreindex(\u001b[38;5;241m*\u001b[39m\u001b[38;5;241m*\u001b[39mkwargs)\n",
      "File \u001b[1;32m~\\anaconda3\\lib\\site-packages\\pandas\\core\\generic.py:5289\u001b[0m, in \u001b[0;36mNDFrame.reindex\u001b[1;34m(self, *args, **kwargs)\u001b[0m\n\u001b[0;32m   5286\u001b[0m     \u001b[38;5;28;01mreturn\u001b[39;00m \u001b[38;5;28mself\u001b[39m\u001b[38;5;241m.\u001b[39m_reindex_multi(axes, copy, fill_value)\n\u001b[0;32m   5288\u001b[0m \u001b[38;5;66;03m# perform the reindex on the axes\u001b[39;00m\n\u001b[1;32m-> 5289\u001b[0m \u001b[38;5;28;01mreturn\u001b[39;00m \u001b[38;5;28;43mself\u001b[39;49m\u001b[38;5;241;43m.\u001b[39;49m\u001b[43m_reindex_axes\u001b[49m\u001b[43m(\u001b[49m\n\u001b[0;32m   5290\u001b[0m \u001b[43m    \u001b[49m\u001b[43maxes\u001b[49m\u001b[43m,\u001b[49m\u001b[43m \u001b[49m\u001b[43mlevel\u001b[49m\u001b[43m,\u001b[49m\u001b[43m \u001b[49m\u001b[43mlimit\u001b[49m\u001b[43m,\u001b[49m\u001b[43m \u001b[49m\u001b[43mtolerance\u001b[49m\u001b[43m,\u001b[49m\u001b[43m \u001b[49m\u001b[43mmethod\u001b[49m\u001b[43m,\u001b[49m\u001b[43m \u001b[49m\u001b[43mfill_value\u001b[49m\u001b[43m,\u001b[49m\u001b[43m \u001b[49m\u001b[43mcopy\u001b[49m\n\u001b[0;32m   5291\u001b[0m \u001b[43m\u001b[49m\u001b[43m)\u001b[49m\u001b[38;5;241m.\u001b[39m__finalize__(\u001b[38;5;28mself\u001b[39m, method\u001b[38;5;241m=\u001b[39m\u001b[38;5;124m\"\u001b[39m\u001b[38;5;124mreindex\u001b[39m\u001b[38;5;124m\"\u001b[39m)\n",
      "File \u001b[1;32m~\\anaconda3\\lib\\site-packages\\pandas\\core\\generic.py:5309\u001b[0m, in \u001b[0;36mNDFrame._reindex_axes\u001b[1;34m(self, axes, level, limit, tolerance, method, fill_value, copy)\u001b[0m\n\u001b[0;32m   5304\u001b[0m new_index, indexer \u001b[38;5;241m=\u001b[39m ax\u001b[38;5;241m.\u001b[39mreindex(\n\u001b[0;32m   5305\u001b[0m     labels, level\u001b[38;5;241m=\u001b[39mlevel, limit\u001b[38;5;241m=\u001b[39mlimit, tolerance\u001b[38;5;241m=\u001b[39mtolerance, method\u001b[38;5;241m=\u001b[39mmethod\n\u001b[0;32m   5306\u001b[0m )\n\u001b[0;32m   5308\u001b[0m axis \u001b[38;5;241m=\u001b[39m \u001b[38;5;28mself\u001b[39m\u001b[38;5;241m.\u001b[39m_get_axis_number(a)\n\u001b[1;32m-> 5309\u001b[0m obj \u001b[38;5;241m=\u001b[39m \u001b[43mobj\u001b[49m\u001b[38;5;241;43m.\u001b[39;49m\u001b[43m_reindex_with_indexers\u001b[49m\u001b[43m(\u001b[49m\n\u001b[0;32m   5310\u001b[0m \u001b[43m    \u001b[49m\u001b[43m{\u001b[49m\u001b[43maxis\u001b[49m\u001b[43m:\u001b[49m\u001b[43m \u001b[49m\u001b[43m[\u001b[49m\u001b[43mnew_index\u001b[49m\u001b[43m,\u001b[49m\u001b[43m \u001b[49m\u001b[43mindexer\u001b[49m\u001b[43m]\u001b[49m\u001b[43m}\u001b[49m\u001b[43m,\u001b[49m\n\u001b[0;32m   5311\u001b[0m \u001b[43m    \u001b[49m\u001b[43mfill_value\u001b[49m\u001b[38;5;241;43m=\u001b[39;49m\u001b[43mfill_value\u001b[49m\u001b[43m,\u001b[49m\n\u001b[0;32m   5312\u001b[0m \u001b[43m    \u001b[49m\u001b[43mcopy\u001b[49m\u001b[38;5;241;43m=\u001b[39;49m\u001b[43mcopy\u001b[49m\u001b[43m,\u001b[49m\n\u001b[0;32m   5313\u001b[0m \u001b[43m    \u001b[49m\u001b[43mallow_dups\u001b[49m\u001b[38;5;241;43m=\u001b[39;49m\u001b[38;5;28;43;01mFalse\u001b[39;49;00m\u001b[43m,\u001b[49m\n\u001b[0;32m   5314\u001b[0m \u001b[43m\u001b[49m\u001b[43m)\u001b[49m\n\u001b[0;32m   5315\u001b[0m \u001b[38;5;66;03m# If we've made a copy once, no need to make another one\u001b[39;00m\n\u001b[0;32m   5316\u001b[0m copy \u001b[38;5;241m=\u001b[39m \u001b[38;5;28;01mFalse\u001b[39;00m\n",
      "File \u001b[1;32m~\\anaconda3\\lib\\site-packages\\pandas\\core\\generic.py:5355\u001b[0m, in \u001b[0;36mNDFrame._reindex_with_indexers\u001b[1;34m(self, reindexers, fill_value, copy, allow_dups)\u001b[0m\n\u001b[0;32m   5352\u001b[0m     indexer \u001b[38;5;241m=\u001b[39m ensure_platform_int(indexer)\n\u001b[0;32m   5354\u001b[0m \u001b[38;5;66;03m# TODO: speed up on homogeneous DataFrame objects (see _reindex_multi)\u001b[39;00m\n\u001b[1;32m-> 5355\u001b[0m new_data \u001b[38;5;241m=\u001b[39m \u001b[43mnew_data\u001b[49m\u001b[38;5;241;43m.\u001b[39;49m\u001b[43mreindex_indexer\u001b[49m\u001b[43m(\u001b[49m\n\u001b[0;32m   5356\u001b[0m \u001b[43m    \u001b[49m\u001b[43mindex\u001b[49m\u001b[43m,\u001b[49m\n\u001b[0;32m   5357\u001b[0m \u001b[43m    \u001b[49m\u001b[43mindexer\u001b[49m\u001b[43m,\u001b[49m\n\u001b[0;32m   5358\u001b[0m \u001b[43m    \u001b[49m\u001b[43maxis\u001b[49m\u001b[38;5;241;43m=\u001b[39;49m\u001b[43mbaxis\u001b[49m\u001b[43m,\u001b[49m\n\u001b[0;32m   5359\u001b[0m \u001b[43m    \u001b[49m\u001b[43mfill_value\u001b[49m\u001b[38;5;241;43m=\u001b[39;49m\u001b[43mfill_value\u001b[49m\u001b[43m,\u001b[49m\n\u001b[0;32m   5360\u001b[0m \u001b[43m    \u001b[49m\u001b[43mallow_dups\u001b[49m\u001b[38;5;241;43m=\u001b[39;49m\u001b[43mallow_dups\u001b[49m\u001b[43m,\u001b[49m\n\u001b[0;32m   5361\u001b[0m \u001b[43m    \u001b[49m\u001b[43mcopy\u001b[49m\u001b[38;5;241;43m=\u001b[39;49m\u001b[43mcopy\u001b[49m\u001b[43m,\u001b[49m\n\u001b[0;32m   5362\u001b[0m \u001b[43m\u001b[49m\u001b[43m)\u001b[49m\n\u001b[0;32m   5363\u001b[0m \u001b[38;5;66;03m# If we've made a copy once, no need to make another one\u001b[39;00m\n\u001b[0;32m   5364\u001b[0m copy \u001b[38;5;241m=\u001b[39m \u001b[38;5;28;01mFalse\u001b[39;00m\n",
      "File \u001b[1;32m~\\anaconda3\\lib\\site-packages\\pandas\\core\\internals\\managers.py:737\u001b[0m, in \u001b[0;36mBaseBlockManager.reindex_indexer\u001b[1;34m(self, new_axis, indexer, axis, fill_value, allow_dups, copy, only_slice, use_na_proxy)\u001b[0m\n\u001b[0;32m    735\u001b[0m \u001b[38;5;66;03m# some axes don't allow reindexing with dups\u001b[39;00m\n\u001b[0;32m    736\u001b[0m \u001b[38;5;28;01mif\u001b[39;00m \u001b[38;5;129;01mnot\u001b[39;00m allow_dups:\n\u001b[1;32m--> 737\u001b[0m     \u001b[38;5;28;43mself\u001b[39;49m\u001b[38;5;241;43m.\u001b[39;49m\u001b[43maxes\u001b[49m\u001b[43m[\u001b[49m\u001b[43maxis\u001b[49m\u001b[43m]\u001b[49m\u001b[38;5;241;43m.\u001b[39;49m\u001b[43m_validate_can_reindex\u001b[49m\u001b[43m(\u001b[49m\u001b[43mindexer\u001b[49m\u001b[43m)\u001b[49m\n\u001b[0;32m    739\u001b[0m \u001b[38;5;28;01mif\u001b[39;00m axis \u001b[38;5;241m>\u001b[39m\u001b[38;5;241m=\u001b[39m \u001b[38;5;28mself\u001b[39m\u001b[38;5;241m.\u001b[39mndim:\n\u001b[0;32m    740\u001b[0m     \u001b[38;5;28;01mraise\u001b[39;00m \u001b[38;5;167;01mIndexError\u001b[39;00m(\u001b[38;5;124m\"\u001b[39m\u001b[38;5;124mRequested axis not found in manager\u001b[39m\u001b[38;5;124m\"\u001b[39m)\n",
      "File \u001b[1;32m~\\anaconda3\\lib\\site-packages\\pandas\\core\\indexes\\base.py:4316\u001b[0m, in \u001b[0;36mIndex._validate_can_reindex\u001b[1;34m(self, indexer)\u001b[0m\n\u001b[0;32m   4314\u001b[0m \u001b[38;5;66;03m# trying to reindex on an axis with duplicates\u001b[39;00m\n\u001b[0;32m   4315\u001b[0m \u001b[38;5;28;01mif\u001b[39;00m \u001b[38;5;129;01mnot\u001b[39;00m \u001b[38;5;28mself\u001b[39m\u001b[38;5;241m.\u001b[39m_index_as_unique \u001b[38;5;129;01mand\u001b[39;00m \u001b[38;5;28mlen\u001b[39m(indexer):\n\u001b[1;32m-> 4316\u001b[0m     \u001b[38;5;28;01mraise\u001b[39;00m \u001b[38;5;167;01mValueError\u001b[39;00m(\u001b[38;5;124m\"\u001b[39m\u001b[38;5;124mcannot reindex on an axis with duplicate labels\u001b[39m\u001b[38;5;124m\"\u001b[39m)\n",
      "\u001b[1;31mValueError\u001b[0m: cannot reindex on an axis with duplicate labels"
     ]
    }
   ],
   "source": [
    "grouped04020191 = data0402019[data0402019['강수량자료값(mm)']> 0 ].groupby(data0402019['month'])\n",
    "grouped04020192 = data0402019[data0402019['강수량자료값(mm)']> 60 ].groupby(data0402019['month'])\n",
    "grouped04020192.size()/grouped04020191.size()"
   ]
  },
  {
   "cell_type": "markdown",
   "metadata": {},
   "source": [
    "* 2020 (데이터 없음)"
   ]
  },
  {
   "cell_type": "code",
   "execution_count": null,
   "metadata": {},
   "outputs": [],
   "source": [
    "grouped04020201 = data0402020[data0402020['강수량자료값(mm)']> 0 ].groupby(data0402020['month'])\n",
    "grouped04020202 = data0402020[data0402020['강수량자료값(mm)']> 60 ].groupby(data0402020['month'])\n",
    "grouped04020202.size()/grouped04020201.size()"
   ]
  },
  {
   "cell_type": "markdown",
   "metadata": {},
   "source": [
    "* 2021 (데이터 없음)"
   ]
  },
  {
   "cell_type": "code",
   "execution_count": 77,
   "metadata": {},
   "outputs": [
    {
     "data": {
      "text/plain": [
       "Series([], dtype: int64)"
      ]
     },
     "execution_count": 77,
     "metadata": {},
     "output_type": "execute_result"
    }
   ],
   "source": [
    "grouped04020211 = data0402021[data0402021['강수량자료값(mm)']> 0 ].groupby(data0402021['month'])\n",
    "grouped04020212 = data0402021[data0402021['강수량자료값(mm)']> 60 ].groupby(data0402021['month'])\n",
    "grouped04020212.size()/grouped04020211.size()"
   ]
  },
  {
   "cell_type": "markdown",
   "metadata": {},
   "source": [
    "* 2022 (비 안옴)"
   ]
  },
  {
   "cell_type": "code",
   "execution_count": 75,
   "metadata": {},
   "outputs": [
    {
     "data": {
      "text/plain": [
       "Series([], dtype: float64)"
      ]
     },
     "execution_count": 75,
     "metadata": {},
     "output_type": "execute_result"
    }
   ],
   "source": [
    "grouped04020221 = data0402022[data0402022['강수량자료값(mm)']> 0 ].groupby(data0402022['month'])\n",
    "grouped04020222 = data0402022[data0402022['강수량자료값(mm)']> 60 ].groupby(data0402022['month'])\n",
    "grouped04020222.size()/grouped04020221.size()"
   ]
  },
  {
   "cell_type": "markdown",
   "metadata": {},
   "source": [
    "### 10184040관측소 데이터 시각화"
   ]
  },
  {
   "cell_type": "code",
   "execution_count": 19,
   "metadata": {},
   "outputs": [
    {
     "ename": "NameError",
     "evalue": "name 'grouped04020192' is not defined",
     "output_type": "error",
     "traceback": [
      "\u001b[1;31m---------------------------------------------------------------------------\u001b[0m",
      "\u001b[1;31mNameError\u001b[0m                                 Traceback (most recent call last)",
      "Cell \u001b[1;32mIn[19], line 4\u001b[0m\n\u001b[0;32m      2\u001b[0m rkdf0402\u001b[38;5;241m=\u001b[39mgrouped04020172\u001b[38;5;241m.\u001b[39msize()\u001b[38;5;241m/\u001b[39mgrouped04020171\u001b[38;5;241m.\u001b[39msize()\n\u001b[0;32m      3\u001b[0m rkdf0403\u001b[38;5;241m=\u001b[39mgrouped04020182\u001b[38;5;241m.\u001b[39msize()\u001b[38;5;241m/\u001b[39mgrouped04020181\u001b[38;5;241m.\u001b[39msize()\n\u001b[1;32m----> 4\u001b[0m rkdf0404\u001b[38;5;241m=\u001b[39m\u001b[43mgrouped04020192\u001b[49m\u001b[38;5;241m.\u001b[39msize()\u001b[38;5;241m/\u001b[39mgrouped04020191\u001b[38;5;241m.\u001b[39msize()\n",
      "\u001b[1;31mNameError\u001b[0m: name 'grouped04020192' is not defined"
     ]
    }
   ],
   "source": [
    "rkdf0401=grouped04020162.size()/grouped04020161.size()\n",
    "rkdf0402=grouped04020172.size()/grouped04020171.size()\n",
    "rkdf0403=grouped04020182.size()/grouped04020181.size()\n",
    "rkdf0404=grouped04020192.size()/grouped04020191.size()"
   ]
  },
  {
   "cell_type": "code",
   "execution_count": 222,
   "metadata": {},
   "outputs": [
    {
     "data": {
      "text/plain": [
       "Text(0.5, 0.98, '호우주의보 비율')"
      ]
     },
     "execution_count": 222,
     "metadata": {},
     "output_type": "execute_result"
    },
    {
     "data": {
      "image/png": "[encoded data removed]",
      "text/plain": [
       "<Figure size 900x700 with 4 Axes>"
      ]
     },
     "metadata": {},
     "output_type": "display_data"
    }
   ],
   "source": [
    "plt.style.use('ggplot')\n",
    "\n",
    "plt.figure(figsize=(9, 7))\n",
    "\n",
    "plt.subplot(2,2,1)\n",
    "rkdf0401.plot(x='month',kind='bar', color='#9bb7d4')\n",
    "plt.xticks(rotation='horizontal')\n",
    "plt.legend(labels=['2016'], loc='upper right', fontsize=11)\n",
    "\n",
    "plt.subplot(2,2,2)\n",
    "rkdf0402.plot(x='month',kind='bar', color='#9bb7d4')\n",
    "plt.xticks(rotation='horizontal')\n",
    "plt.legend(labels=['2017'], loc='upper right', fontsize=11)\n",
    "\n",
    "plt.subplot(2,2,3)\n",
    "rkdf0403.plot(x='month',kind='bar', color='#9bb7d4')\n",
    "plt.xticks(rotation='horizontal')\n",
    "plt.legend(labels=['2018'], loc='upper right', fontsize=11)\n",
    "\n",
    "plt.subplot(2,2,4)\n",
    "rkdf0404.plot(x='month',kind='bar', color='#9bb7d4')\n",
    "plt.xticks(rotation='horizontal')\n",
    "plt.legend(labels=['2019'], loc='upper right', fontsize=11)\n",
    "\n",
    "plt.suptitle('호우주의보 비율', size=15)"
   ]
  },
  {
   "cell_type": "markdown",
   "metadata": {},
   "source": [
    "### 10184180관측소 연도별 6, 7, 8월 데이터"
   ]
  },
  {
   "cell_type": "code",
   "execution_count": 23,
   "metadata": {},
   "outputs": [],
   "source": [
    "data1802016=data180[(data180['year']==2016) & ((data180['month']==6)|(data180['month']==7)|(data180['month']==8))]\n",
    "data1802017=data180[(data180['year']==2017) & ((data180['month']==6)|(data180['month']==7)|(data180['month']==8))]\n",
    "data1802018=data180[(data180['year']==2018) & ((data180['month']==6)|(data180['month']==7)|(data180['month']==8))]\n",
    "data1802019=data180[(data180['year']==2019) & ((data180['month']==6)|(data180['month']==7)|(data180['month']==8))]\n",
    "data1802020=data180[(data180['year']==2020) & ((data180['month']==6)|(data180['month']==7)|(data180['month']==8))]\n",
    "data1802021=data180[(data180['year']==2021) & ((data180['month']==6)|(data180['month']==7)|(data180['month']==8))]\n",
    "data1802022=data180[(data180['year']==2022) & ((data180['month']==6)|(data180['month']==7)|(data180['month']==8))]"
   ]
  },
  {
   "cell_type": "markdown",
   "metadata": {},
   "source": [
    "### 10184180관측소 연도별 6, 7, 8월 강수량 데이터"
   ]
  },
  {
   "cell_type": "markdown",
   "metadata": {},
   "source": [
    "* 2016"
   ]
  },
  {
   "cell_type": "code",
   "execution_count": 24,
   "metadata": {},
   "outputs": [
    {
     "data": {
      "text/plain": [
       "month\n",
       "6         NaN\n",
       "7    0.142857\n",
       "8         NaN\n",
       "dtype: float64"
      ]
     },
     "execution_count": 24,
     "metadata": {},
     "output_type": "execute_result"
    }
   ],
   "source": [
    "grouped18020161 = data1802016[data1802016['강수량자료값(mm)']> 0 ].groupby(data1802016['month'])\n",
    "grouped18020162 = data1802016[data1802016['강수량자료값(mm)']> 60 ].groupby(data1802016['month'])\n",
    "grouped18020162.size()/grouped18020161.size()"
   ]
  },
  {
   "cell_type": "markdown",
   "metadata": {},
   "source": [
    "* 2017"
   ]
  },
  {
   "cell_type": "code",
   "execution_count": 25,
   "metadata": {},
   "outputs": [
    {
     "data": {
      "text/plain": [
       "month\n",
       "6         NaN\n",
       "7    0.210526\n",
       "8    0.142857\n",
       "dtype: float64"
      ]
     },
     "execution_count": 25,
     "metadata": {},
     "output_type": "execute_result"
    }
   ],
   "source": [
    "grouped18020171 = data1802017[data1802017['강수량자료값(mm)']> 0 ].groupby(data1802017['month'])\n",
    "grouped18020172 = data1802017[data1802017['강수량자료값(mm)']> 60 ].groupby(data1802017['month'])\n",
    "grouped18020172.size()/grouped18020171.size()"
   ]
  },
  {
   "cell_type": "markdown",
   "metadata": {},
   "source": [
    "* 2018"
   ]
  },
  {
   "cell_type": "code",
   "execution_count": 26,
   "metadata": {},
   "outputs": [
    {
     "data": {
      "text/plain": [
       "month\n",
       "6    0.200000\n",
       "7    0.333333\n",
       "8    0.083333\n",
       "dtype: float64"
      ]
     },
     "execution_count": 26,
     "metadata": {},
     "output_type": "execute_result"
    }
   ],
   "source": [
    "grouped18020181 = data1802018[data1802018['강수량자료값(mm)']> 0 ].groupby(data1802018['month'])\n",
    "grouped18020182 = data1802018[data1802018['강수량자료값(mm)']> 60 ].groupby(data1802018['month'])\n",
    "grouped18020182.size()/grouped18020181.size()"
   ]
  },
  {
   "cell_type": "markdown",
   "metadata": {},
   "source": [
    "* 2019"
   ]
  },
  {
   "cell_type": "code",
   "execution_count": 27,
   "metadata": {},
   "outputs": [
    {
     "name": "stderr",
     "output_type": "stream",
     "text": [
      "C:\\Users\\82103\\AppData\\Local\\Temp\\ipykernel_9112\\1671104360.py:1: FutureWarning: reindexing with a non-unique Index is deprecated and will raise in a future version.\n",
      "  grouped18020191 = data1802019[data1802019['강수량자료값(mm)']> 0 ].groupby(data1802019['month'])\n"
     ]
    },
    {
     "ename": "ValueError",
     "evalue": "cannot reindex on an axis with duplicate labels",
     "output_type": "error",
     "traceback": [
      "\u001b[1;31m---------------------------------------------------------------------------\u001b[0m",
      "\u001b[1;31mValueError\u001b[0m                                Traceback (most recent call last)",
      "Cell \u001b[1;32mIn[27], line 1\u001b[0m\n\u001b[1;32m----> 1\u001b[0m grouped18020191 \u001b[38;5;241m=\u001b[39m \u001b[43mdata1802019\u001b[49m\u001b[43m[\u001b[49m\u001b[43mdata1802019\u001b[49m\u001b[43m[\u001b[49m\u001b[38;5;124;43m'\u001b[39;49m\u001b[38;5;124;43m강수량자료값(mm)\u001b[39;49m\u001b[38;5;124;43m'\u001b[39;49m\u001b[43m]\u001b[49m\u001b[38;5;241;43m>\u001b[39;49m\u001b[43m \u001b[49m\u001b[38;5;241;43m0\u001b[39;49m\u001b[43m \u001b[49m\u001b[43m]\u001b[49m\u001b[38;5;241;43m.\u001b[39;49m\u001b[43mgroupby\u001b[49m\u001b[43m(\u001b[49m\u001b[43mdata1802019\u001b[49m\u001b[43m[\u001b[49m\u001b[38;5;124;43m'\u001b[39;49m\u001b[38;5;124;43mmonth\u001b[39;49m\u001b[38;5;124;43m'\u001b[39;49m\u001b[43m]\u001b[49m\u001b[43m)\u001b[49m\n\u001b[0;32m      2\u001b[0m grouped18020192 \u001b[38;5;241m=\u001b[39m data1802019[data1802019[\u001b[38;5;124m'\u001b[39m\u001b[38;5;124m강수량자료값(mm)\u001b[39m\u001b[38;5;124m'\u001b[39m]\u001b[38;5;241m>\u001b[39m \u001b[38;5;241m60\u001b[39m ]\u001b[38;5;241m.\u001b[39mgroupby(data1802019[\u001b[38;5;124m'\u001b[39m\u001b[38;5;124mmonth\u001b[39m\u001b[38;5;124m'\u001b[39m])\n\u001b[0;32m      3\u001b[0m grouped18020192\u001b[38;5;241m.\u001b[39msize()\u001b[38;5;241m/\u001b[39mgrouped18020191\u001b[38;5;241m.\u001b[39msize()\n",
      "File \u001b[1;32m~\\anaconda3\\lib\\site-packages\\pandas\\core\\frame.py:8402\u001b[0m, in \u001b[0;36mDataFrame.groupby\u001b[1;34m(self, by, axis, level, as_index, sort, group_keys, squeeze, observed, dropna)\u001b[0m\n\u001b[0;32m   8399\u001b[0m     \u001b[38;5;28;01mraise\u001b[39;00m \u001b[38;5;167;01mTypeError\u001b[39;00m(\u001b[38;5;124m\"\u001b[39m\u001b[38;5;124mYou have to supply one of \u001b[39m\u001b[38;5;124m'\u001b[39m\u001b[38;5;124mby\u001b[39m\u001b[38;5;124m'\u001b[39m\u001b[38;5;124m and \u001b[39m\u001b[38;5;124m'\u001b[39m\u001b[38;5;124mlevel\u001b[39m\u001b[38;5;124m'\u001b[39m\u001b[38;5;124m\"\u001b[39m)\n\u001b[0;32m   8400\u001b[0m axis \u001b[38;5;241m=\u001b[39m \u001b[38;5;28mself\u001b[39m\u001b[38;5;241m.\u001b[39m_get_axis_number(axis)\n\u001b[1;32m-> 8402\u001b[0m \u001b[38;5;28;01mreturn\u001b[39;00m \u001b[43mDataFrameGroupBy\u001b[49m\u001b[43m(\u001b[49m\n\u001b[0;32m   8403\u001b[0m \u001b[43m    \u001b[49m\u001b[43mobj\u001b[49m\u001b[38;5;241;43m=\u001b[39;49m\u001b[38;5;28;43mself\u001b[39;49m\u001b[43m,\u001b[49m\n\u001b[0;32m   8404\u001b[0m \u001b[43m    \u001b[49m\u001b[43mkeys\u001b[49m\u001b[38;5;241;43m=\u001b[39;49m\u001b[43mby\u001b[49m\u001b[43m,\u001b[49m\n\u001b[0;32m   8405\u001b[0m \u001b[43m    \u001b[49m\u001b[43maxis\u001b[49m\u001b[38;5;241;43m=\u001b[39;49m\u001b[43maxis\u001b[49m\u001b[43m,\u001b[49m\n\u001b[0;32m   8406\u001b[0m \u001b[43m    \u001b[49m\u001b[43mlevel\u001b[49m\u001b[38;5;241;43m=\u001b[39;49m\u001b[43mlevel\u001b[49m\u001b[43m,\u001b[49m\n\u001b[0;32m   8407\u001b[0m \u001b[43m    \u001b[49m\u001b[43mas_index\u001b[49m\u001b[38;5;241;43m=\u001b[39;49m\u001b[43mas_index\u001b[49m\u001b[43m,\u001b[49m\n\u001b[0;32m   8408\u001b[0m \u001b[43m    \u001b[49m\u001b[43msort\u001b[49m\u001b[38;5;241;43m=\u001b[39;49m\u001b[43msort\u001b[49m\u001b[43m,\u001b[49m\n\u001b[0;32m   8409\u001b[0m \u001b[43m    \u001b[49m\u001b[43mgroup_keys\u001b[49m\u001b[38;5;241;43m=\u001b[39;49m\u001b[43mgroup_keys\u001b[49m\u001b[43m,\u001b[49m\n\u001b[0;32m   8410\u001b[0m \u001b[43m    \u001b[49m\u001b[43msqueeze\u001b[49m\u001b[38;5;241;43m=\u001b[39;49m\u001b[43msqueeze\u001b[49m\u001b[43m,\u001b[49m\n\u001b[0;32m   8411\u001b[0m \u001b[43m    \u001b[49m\u001b[43mobserved\u001b[49m\u001b[38;5;241;43m=\u001b[39;49m\u001b[43mobserved\u001b[49m\u001b[43m,\u001b[49m\n\u001b[0;32m   8412\u001b[0m \u001b[43m    \u001b[49m\u001b[43mdropna\u001b[49m\u001b[38;5;241;43m=\u001b[39;49m\u001b[43mdropna\u001b[49m\u001b[43m,\u001b[49m\n\u001b[0;32m   8413\u001b[0m \u001b[43m\u001b[49m\u001b[43m)\u001b[49m\n",
      "File \u001b[1;32m~\\anaconda3\\lib\\site-packages\\pandas\\core\\groupby\\groupby.py:965\u001b[0m, in \u001b[0;36mGroupBy.__init__\u001b[1;34m(self, obj, keys, axis, level, grouper, exclusions, selection, as_index, sort, group_keys, squeeze, observed, mutated, dropna)\u001b[0m\n\u001b[0;32m    962\u001b[0m \u001b[38;5;28;01mif\u001b[39;00m grouper \u001b[38;5;129;01mis\u001b[39;00m \u001b[38;5;28;01mNone\u001b[39;00m:\n\u001b[0;32m    963\u001b[0m     \u001b[38;5;28;01mfrom\u001b[39;00m \u001b[38;5;21;01mpandas\u001b[39;00m\u001b[38;5;21;01m.\u001b[39;00m\u001b[38;5;21;01mcore\u001b[39;00m\u001b[38;5;21;01m.\u001b[39;00m\u001b[38;5;21;01mgroupby\u001b[39;00m\u001b[38;5;21;01m.\u001b[39;00m\u001b[38;5;21;01mgrouper\u001b[39;00m \u001b[38;5;28;01mimport\u001b[39;00m get_grouper\n\u001b[1;32m--> 965\u001b[0m     grouper, exclusions, obj \u001b[38;5;241m=\u001b[39m \u001b[43mget_grouper\u001b[49m\u001b[43m(\u001b[49m\n\u001b[0;32m    966\u001b[0m \u001b[43m        \u001b[49m\u001b[43mobj\u001b[49m\u001b[43m,\u001b[49m\n\u001b[0;32m    967\u001b[0m \u001b[43m        \u001b[49m\u001b[43mkeys\u001b[49m\u001b[43m,\u001b[49m\n\u001b[0;32m    968\u001b[0m \u001b[43m        \u001b[49m\u001b[43maxis\u001b[49m\u001b[38;5;241;43m=\u001b[39;49m\u001b[43maxis\u001b[49m\u001b[43m,\u001b[49m\n\u001b[0;32m    969\u001b[0m \u001b[43m        \u001b[49m\u001b[43mlevel\u001b[49m\u001b[38;5;241;43m=\u001b[39;49m\u001b[43mlevel\u001b[49m\u001b[43m,\u001b[49m\n\u001b[0;32m    970\u001b[0m \u001b[43m        \u001b[49m\u001b[43msort\u001b[49m\u001b[38;5;241;43m=\u001b[39;49m\u001b[43msort\u001b[49m\u001b[43m,\u001b[49m\n\u001b[0;32m    971\u001b[0m \u001b[43m        \u001b[49m\u001b[43mobserved\u001b[49m\u001b[38;5;241;43m=\u001b[39;49m\u001b[43mobserved\u001b[49m\u001b[43m,\u001b[49m\n\u001b[0;32m    972\u001b[0m \u001b[43m        \u001b[49m\u001b[43mmutated\u001b[49m\u001b[38;5;241;43m=\u001b[39;49m\u001b[38;5;28;43mself\u001b[39;49m\u001b[38;5;241;43m.\u001b[39;49m\u001b[43mmutated\u001b[49m\u001b[43m,\u001b[49m\n\u001b[0;32m    973\u001b[0m \u001b[43m        \u001b[49m\u001b[43mdropna\u001b[49m\u001b[38;5;241;43m=\u001b[39;49m\u001b[38;5;28;43mself\u001b[39;49m\u001b[38;5;241;43m.\u001b[39;49m\u001b[43mdropna\u001b[49m\u001b[43m,\u001b[49m\n\u001b[0;32m    974\u001b[0m \u001b[43m    \u001b[49m\u001b[43m)\u001b[49m\n\u001b[0;32m    976\u001b[0m \u001b[38;5;28mself\u001b[39m\u001b[38;5;241m.\u001b[39mobj \u001b[38;5;241m=\u001b[39m obj\n\u001b[0;32m    977\u001b[0m \u001b[38;5;28mself\u001b[39m\u001b[38;5;241m.\u001b[39maxis \u001b[38;5;241m=\u001b[39m obj\u001b[38;5;241m.\u001b[39m_get_axis_number(axis)\n",
      "File \u001b[1;32m~\\anaconda3\\lib\\site-packages\\pandas\\core\\groupby\\grouper.py:899\u001b[0m, in \u001b[0;36mget_grouper\u001b[1;34m(obj, key, axis, level, sort, observed, mutated, validate, dropna)\u001b[0m\n\u001b[0;32m    894\u001b[0m         in_axis \u001b[38;5;241m=\u001b[39m \u001b[38;5;28;01mFalse\u001b[39;00m\n\u001b[0;32m    896\u001b[0m     \u001b[38;5;66;03m# create the Grouping\u001b[39;00m\n\u001b[0;32m    897\u001b[0m     \u001b[38;5;66;03m# allow us to passing the actual Grouping as the gpr\u001b[39;00m\n\u001b[0;32m    898\u001b[0m     ping \u001b[38;5;241m=\u001b[39m (\n\u001b[1;32m--> 899\u001b[0m         \u001b[43mGrouping\u001b[49m\u001b[43m(\u001b[49m\n\u001b[0;32m    900\u001b[0m \u001b[43m            \u001b[49m\u001b[43mgroup_axis\u001b[49m\u001b[43m,\u001b[49m\n\u001b[0;32m    901\u001b[0m \u001b[43m            \u001b[49m\u001b[43mgpr\u001b[49m\u001b[43m,\u001b[49m\n\u001b[0;32m    902\u001b[0m \u001b[43m            \u001b[49m\u001b[43mobj\u001b[49m\u001b[38;5;241;43m=\u001b[39;49m\u001b[43mobj\u001b[49m\u001b[43m,\u001b[49m\n\u001b[0;32m    903\u001b[0m \u001b[43m            \u001b[49m\u001b[43mlevel\u001b[49m\u001b[38;5;241;43m=\u001b[39;49m\u001b[43mlevel\u001b[49m\u001b[43m,\u001b[49m\n\u001b[0;32m    904\u001b[0m \u001b[43m            \u001b[49m\u001b[43msort\u001b[49m\u001b[38;5;241;43m=\u001b[39;49m\u001b[43msort\u001b[49m\u001b[43m,\u001b[49m\n\u001b[0;32m    905\u001b[0m \u001b[43m            \u001b[49m\u001b[43mobserved\u001b[49m\u001b[38;5;241;43m=\u001b[39;49m\u001b[43mobserved\u001b[49m\u001b[43m,\u001b[49m\n\u001b[0;32m    906\u001b[0m \u001b[43m            \u001b[49m\u001b[43min_axis\u001b[49m\u001b[38;5;241;43m=\u001b[39;49m\u001b[43min_axis\u001b[49m\u001b[43m,\u001b[49m\n\u001b[0;32m    907\u001b[0m \u001b[43m            \u001b[49m\u001b[43mdropna\u001b[49m\u001b[38;5;241;43m=\u001b[39;49m\u001b[43mdropna\u001b[49m\u001b[43m,\u001b[49m\n\u001b[0;32m    908\u001b[0m \u001b[43m        \u001b[49m\u001b[43m)\u001b[49m\n\u001b[0;32m    909\u001b[0m         \u001b[38;5;28;01mif\u001b[39;00m \u001b[38;5;129;01mnot\u001b[39;00m \u001b[38;5;28misinstance\u001b[39m(gpr, Grouping)\n\u001b[0;32m    910\u001b[0m         \u001b[38;5;28;01melse\u001b[39;00m gpr\n\u001b[0;32m    911\u001b[0m     )\n\u001b[0;32m    913\u001b[0m     groupings\u001b[38;5;241m.\u001b[39mappend(ping)\n\u001b[0;32m    915\u001b[0m \u001b[38;5;28;01mif\u001b[39;00m \u001b[38;5;28mlen\u001b[39m(groupings) \u001b[38;5;241m==\u001b[39m \u001b[38;5;241m0\u001b[39m \u001b[38;5;129;01mand\u001b[39;00m \u001b[38;5;28mlen\u001b[39m(obj):\n",
      "File \u001b[1;32m~\\anaconda3\\lib\\site-packages\\pandas\\core\\groupby\\grouper.py:480\u001b[0m, in \u001b[0;36mGrouping.__init__\u001b[1;34m(self, index, grouper, obj, level, sort, observed, in_axis, dropna)\u001b[0m\n\u001b[0;32m    478\u001b[0m \u001b[38;5;28mself\u001b[39m\u001b[38;5;241m.\u001b[39mlevel \u001b[38;5;241m=\u001b[39m level\n\u001b[0;32m    479\u001b[0m \u001b[38;5;28mself\u001b[39m\u001b[38;5;241m.\u001b[39m_orig_grouper \u001b[38;5;241m=\u001b[39m grouper\n\u001b[1;32m--> 480\u001b[0m \u001b[38;5;28mself\u001b[39m\u001b[38;5;241m.\u001b[39mgrouping_vector \u001b[38;5;241m=\u001b[39m \u001b[43m_convert_grouper\u001b[49m\u001b[43m(\u001b[49m\u001b[43mindex\u001b[49m\u001b[43m,\u001b[49m\u001b[43m \u001b[49m\u001b[43mgrouper\u001b[49m\u001b[43m)\u001b[49m\n\u001b[0;32m    481\u001b[0m \u001b[38;5;28mself\u001b[39m\u001b[38;5;241m.\u001b[39m_all_grouper \u001b[38;5;241m=\u001b[39m \u001b[38;5;28;01mNone\u001b[39;00m\n\u001b[0;32m    482\u001b[0m \u001b[38;5;28mself\u001b[39m\u001b[38;5;241m.\u001b[39m_index \u001b[38;5;241m=\u001b[39m index\n",
      "File \u001b[1;32m~\\anaconda3\\lib\\site-packages\\pandas\\core\\groupby\\grouper.py:938\u001b[0m, in \u001b[0;36m_convert_grouper\u001b[1;34m(axis, grouper)\u001b[0m\n\u001b[0;32m    936\u001b[0m         \u001b[38;5;28;01mreturn\u001b[39;00m grouper\u001b[38;5;241m.\u001b[39m_values\n\u001b[0;32m    937\u001b[0m     \u001b[38;5;28;01melse\u001b[39;00m:\n\u001b[1;32m--> 938\u001b[0m         \u001b[38;5;28;01mreturn\u001b[39;00m \u001b[43mgrouper\u001b[49m\u001b[38;5;241;43m.\u001b[39;49m\u001b[43mreindex\u001b[49m\u001b[43m(\u001b[49m\u001b[43maxis\u001b[49m\u001b[43m)\u001b[49m\u001b[38;5;241m.\u001b[39m_values\n\u001b[0;32m    939\u001b[0m \u001b[38;5;28;01melif\u001b[39;00m \u001b[38;5;28misinstance\u001b[39m(grouper, MultiIndex):\n\u001b[0;32m    940\u001b[0m     \u001b[38;5;28;01mreturn\u001b[39;00m grouper\u001b[38;5;241m.\u001b[39m_values\n",
      "File \u001b[1;32m~\\anaconda3\\lib\\site-packages\\pandas\\core\\series.py:5094\u001b[0m, in \u001b[0;36mSeries.reindex\u001b[1;34m(self, *args, **kwargs)\u001b[0m\n\u001b[0;32m   5090\u001b[0m         \u001b[38;5;28;01mraise\u001b[39;00m \u001b[38;5;167;01mTypeError\u001b[39;00m(\n\u001b[0;32m   5091\u001b[0m             \u001b[38;5;124m\"\u001b[39m\u001b[38;5;124m'\u001b[39m\u001b[38;5;124mindex\u001b[39m\u001b[38;5;124m'\u001b[39m\u001b[38;5;124m passed as both positional and keyword argument\u001b[39m\u001b[38;5;124m\"\u001b[39m\n\u001b[0;32m   5092\u001b[0m         )\n\u001b[0;32m   5093\u001b[0m     kwargs\u001b[38;5;241m.\u001b[39mupdate({\u001b[38;5;124m\"\u001b[39m\u001b[38;5;124mindex\u001b[39m\u001b[38;5;124m\"\u001b[39m: index})\n\u001b[1;32m-> 5094\u001b[0m \u001b[38;5;28;01mreturn\u001b[39;00m \u001b[38;5;28msuper\u001b[39m()\u001b[38;5;241m.\u001b[39mreindex(\u001b[38;5;241m*\u001b[39m\u001b[38;5;241m*\u001b[39mkwargs)\n",
      "File \u001b[1;32m~\\anaconda3\\lib\\site-packages\\pandas\\core\\generic.py:5289\u001b[0m, in \u001b[0;36mNDFrame.reindex\u001b[1;34m(self, *args, **kwargs)\u001b[0m\n\u001b[0;32m   5286\u001b[0m     \u001b[38;5;28;01mreturn\u001b[39;00m \u001b[38;5;28mself\u001b[39m\u001b[38;5;241m.\u001b[39m_reindex_multi(axes, copy, fill_value)\n\u001b[0;32m   5288\u001b[0m \u001b[38;5;66;03m# perform the reindex on the axes\u001b[39;00m\n\u001b[1;32m-> 5289\u001b[0m \u001b[38;5;28;01mreturn\u001b[39;00m \u001b[38;5;28;43mself\u001b[39;49m\u001b[38;5;241;43m.\u001b[39;49m\u001b[43m_reindex_axes\u001b[49m\u001b[43m(\u001b[49m\n\u001b[0;32m   5290\u001b[0m \u001b[43m    \u001b[49m\u001b[43maxes\u001b[49m\u001b[43m,\u001b[49m\u001b[43m \u001b[49m\u001b[43mlevel\u001b[49m\u001b[43m,\u001b[49m\u001b[43m \u001b[49m\u001b[43mlimit\u001b[49m\u001b[43m,\u001b[49m\u001b[43m \u001b[49m\u001b[43mtolerance\u001b[49m\u001b[43m,\u001b[49m\u001b[43m \u001b[49m\u001b[43mmethod\u001b[49m\u001b[43m,\u001b[49m\u001b[43m \u001b[49m\u001b[43mfill_value\u001b[49m\u001b[43m,\u001b[49m\u001b[43m \u001b[49m\u001b[43mcopy\u001b[49m\n\u001b[0;32m   5291\u001b[0m \u001b[43m\u001b[49m\u001b[43m)\u001b[49m\u001b[38;5;241m.\u001b[39m__finalize__(\u001b[38;5;28mself\u001b[39m, method\u001b[38;5;241m=\u001b[39m\u001b[38;5;124m\"\u001b[39m\u001b[38;5;124mreindex\u001b[39m\u001b[38;5;124m\"\u001b[39m)\n",
      "File \u001b[1;32m~\\anaconda3\\lib\\site-packages\\pandas\\core\\generic.py:5309\u001b[0m, in \u001b[0;36mNDFrame._reindex_axes\u001b[1;34m(self, axes, level, limit, tolerance, method, fill_value, copy)\u001b[0m\n\u001b[0;32m   5304\u001b[0m new_index, indexer \u001b[38;5;241m=\u001b[39m ax\u001b[38;5;241m.\u001b[39mreindex(\n\u001b[0;32m   5305\u001b[0m     labels, level\u001b[38;5;241m=\u001b[39mlevel, limit\u001b[38;5;241m=\u001b[39mlimit, tolerance\u001b[38;5;241m=\u001b[39mtolerance, method\u001b[38;5;241m=\u001b[39mmethod\n\u001b[0;32m   5306\u001b[0m )\n\u001b[0;32m   5308\u001b[0m axis \u001b[38;5;241m=\u001b[39m \u001b[38;5;28mself\u001b[39m\u001b[38;5;241m.\u001b[39m_get_axis_number(a)\n\u001b[1;32m-> 5309\u001b[0m obj \u001b[38;5;241m=\u001b[39m \u001b[43mobj\u001b[49m\u001b[38;5;241;43m.\u001b[39;49m\u001b[43m_reindex_with_indexers\u001b[49m\u001b[43m(\u001b[49m\n\u001b[0;32m   5310\u001b[0m \u001b[43m    \u001b[49m\u001b[43m{\u001b[49m\u001b[43maxis\u001b[49m\u001b[43m:\u001b[49m\u001b[43m \u001b[49m\u001b[43m[\u001b[49m\u001b[43mnew_index\u001b[49m\u001b[43m,\u001b[49m\u001b[43m \u001b[49m\u001b[43mindexer\u001b[49m\u001b[43m]\u001b[49m\u001b[43m}\u001b[49m\u001b[43m,\u001b[49m\n\u001b[0;32m   5311\u001b[0m \u001b[43m    \u001b[49m\u001b[43mfill_value\u001b[49m\u001b[38;5;241;43m=\u001b[39;49m\u001b[43mfill_value\u001b[49m\u001b[43m,\u001b[49m\n\u001b[0;32m   5312\u001b[0m \u001b[43m    \u001b[49m\u001b[43mcopy\u001b[49m\u001b[38;5;241;43m=\u001b[39;49m\u001b[43mcopy\u001b[49m\u001b[43m,\u001b[49m\n\u001b[0;32m   5313\u001b[0m \u001b[43m    \u001b[49m\u001b[43mallow_dups\u001b[49m\u001b[38;5;241;43m=\u001b[39;49m\u001b[38;5;28;43;01mFalse\u001b[39;49;00m\u001b[43m,\u001b[49m\n\u001b[0;32m   5314\u001b[0m \u001b[43m\u001b[49m\u001b[43m)\u001b[49m\n\u001b[0;32m   5315\u001b[0m \u001b[38;5;66;03m# If we've made a copy once, no need to make another one\u001b[39;00m\n\u001b[0;32m   5316\u001b[0m copy \u001b[38;5;241m=\u001b[39m \u001b[38;5;28;01mFalse\u001b[39;00m\n",
      "File \u001b[1;32m~\\anaconda3\\lib\\site-packages\\pandas\\core\\generic.py:5355\u001b[0m, in \u001b[0;36mNDFrame._reindex_with_indexers\u001b[1;34m(self, reindexers, fill_value, copy, allow_dups)\u001b[0m\n\u001b[0;32m   5352\u001b[0m     indexer \u001b[38;5;241m=\u001b[39m ensure_platform_int(indexer)\n\u001b[0;32m   5354\u001b[0m \u001b[38;5;66;03m# TODO: speed up on homogeneous DataFrame objects (see _reindex_multi)\u001b[39;00m\n\u001b[1;32m-> 5355\u001b[0m new_data \u001b[38;5;241m=\u001b[39m \u001b[43mnew_data\u001b[49m\u001b[38;5;241;43m.\u001b[39;49m\u001b[43mreindex_indexer\u001b[49m\u001b[43m(\u001b[49m\n\u001b[0;32m   5356\u001b[0m \u001b[43m    \u001b[49m\u001b[43mindex\u001b[49m\u001b[43m,\u001b[49m\n\u001b[0;32m   5357\u001b[0m \u001b[43m    \u001b[49m\u001b[43mindexer\u001b[49m\u001b[43m,\u001b[49m\n\u001b[0;32m   5358\u001b[0m \u001b[43m    \u001b[49m\u001b[43maxis\u001b[49m\u001b[38;5;241;43m=\u001b[39;49m\u001b[43mbaxis\u001b[49m\u001b[43m,\u001b[49m\n\u001b[0;32m   5359\u001b[0m \u001b[43m    \u001b[49m\u001b[43mfill_value\u001b[49m\u001b[38;5;241;43m=\u001b[39;49m\u001b[43mfill_value\u001b[49m\u001b[43m,\u001b[49m\n\u001b[0;32m   5360\u001b[0m \u001b[43m    \u001b[49m\u001b[43mallow_dups\u001b[49m\u001b[38;5;241;43m=\u001b[39;49m\u001b[43mallow_dups\u001b[49m\u001b[43m,\u001b[49m\n\u001b[0;32m   5361\u001b[0m \u001b[43m    \u001b[49m\u001b[43mcopy\u001b[49m\u001b[38;5;241;43m=\u001b[39;49m\u001b[43mcopy\u001b[49m\u001b[43m,\u001b[49m\n\u001b[0;32m   5362\u001b[0m \u001b[43m\u001b[49m\u001b[43m)\u001b[49m\n\u001b[0;32m   5363\u001b[0m \u001b[38;5;66;03m# If we've made a copy once, no need to make another one\u001b[39;00m\n\u001b[0;32m   5364\u001b[0m copy \u001b[38;5;241m=\u001b[39m \u001b[38;5;28;01mFalse\u001b[39;00m\n",
      "File \u001b[1;32m~\\anaconda3\\lib\\site-packages\\pandas\\core\\internals\\managers.py:737\u001b[0m, in \u001b[0;36mBaseBlockManager.reindex_indexer\u001b[1;34m(self, new_axis, indexer, axis, fill_value, allow_dups, copy, only_slice, use_na_proxy)\u001b[0m\n\u001b[0;32m    735\u001b[0m \u001b[38;5;66;03m# some axes don't allow reindexing with dups\u001b[39;00m\n\u001b[0;32m    736\u001b[0m \u001b[38;5;28;01mif\u001b[39;00m \u001b[38;5;129;01mnot\u001b[39;00m allow_dups:\n\u001b[1;32m--> 737\u001b[0m     \u001b[38;5;28;43mself\u001b[39;49m\u001b[38;5;241;43m.\u001b[39;49m\u001b[43maxes\u001b[49m\u001b[43m[\u001b[49m\u001b[43maxis\u001b[49m\u001b[43m]\u001b[49m\u001b[38;5;241;43m.\u001b[39;49m\u001b[43m_validate_can_reindex\u001b[49m\u001b[43m(\u001b[49m\u001b[43mindexer\u001b[49m\u001b[43m)\u001b[49m\n\u001b[0;32m    739\u001b[0m \u001b[38;5;28;01mif\u001b[39;00m axis \u001b[38;5;241m>\u001b[39m\u001b[38;5;241m=\u001b[39m \u001b[38;5;28mself\u001b[39m\u001b[38;5;241m.\u001b[39mndim:\n\u001b[0;32m    740\u001b[0m     \u001b[38;5;28;01mraise\u001b[39;00m \u001b[38;5;167;01mIndexError\u001b[39;00m(\u001b[38;5;124m\"\u001b[39m\u001b[38;5;124mRequested axis not found in manager\u001b[39m\u001b[38;5;124m\"\u001b[39m)\n",
      "File \u001b[1;32m~\\anaconda3\\lib\\site-packages\\pandas\\core\\indexes\\base.py:4316\u001b[0m, in \u001b[0;36mIndex._validate_can_reindex\u001b[1;34m(self, indexer)\u001b[0m\n\u001b[0;32m   4314\u001b[0m \u001b[38;5;66;03m# trying to reindex on an axis with duplicates\u001b[39;00m\n\u001b[0;32m   4315\u001b[0m \u001b[38;5;28;01mif\u001b[39;00m \u001b[38;5;129;01mnot\u001b[39;00m \u001b[38;5;28mself\u001b[39m\u001b[38;5;241m.\u001b[39m_index_as_unique \u001b[38;5;129;01mand\u001b[39;00m \u001b[38;5;28mlen\u001b[39m(indexer):\n\u001b[1;32m-> 4316\u001b[0m     \u001b[38;5;28;01mraise\u001b[39;00m \u001b[38;5;167;01mValueError\u001b[39;00m(\u001b[38;5;124m\"\u001b[39m\u001b[38;5;124mcannot reindex on an axis with duplicate labels\u001b[39m\u001b[38;5;124m\"\u001b[39m)\n",
      "\u001b[1;31mValueError\u001b[0m: cannot reindex on an axis with duplicate labels"
     ]
    }
   ],
   "source": [
    "grouped18020191 = data1802019[data1802019['강수량자료값(mm)']> 0 ].groupby(data1802019['month'])\n",
    "grouped18020192 = data1802019[data1802019['강수량자료값(mm)']> 60 ].groupby(data1802019['month'])\n",
    "grouped18020192.size()/grouped18020191.size()"
   ]
  },
  {
   "cell_type": "markdown",
   "metadata": {},
   "source": [
    "* 2020"
   ]
  },
  {
   "cell_type": "code",
   "execution_count": 102,
   "metadata": {},
   "outputs": [
    {
     "data": {
      "text/plain": [
       "Series([], dtype: float64)"
      ]
     },
     "execution_count": 102,
     "metadata": {},
     "output_type": "execute_result"
    }
   ],
   "source": [
    "grouped18020201 = data1802020[data1802020['강수량자료값(mm)']> 0 ].groupby(data1802020['month'])\n",
    "grouped18020202 = data1802020[data1802020['강수량자료값(mm)']> 60 ].groupby(data1802020['month'])\n",
    "grouped18020202.size()/grouped18020201.size()"
   ]
  },
  {
   "cell_type": "markdown",
   "metadata": {},
   "source": [
    "* 2021"
   ]
  },
  {
   "cell_type": "code",
   "execution_count": 103,
   "metadata": {},
   "outputs": [
    {
     "data": {
      "text/plain": [
       "Series([], dtype: float64)"
      ]
     },
     "execution_count": 103,
     "metadata": {},
     "output_type": "execute_result"
    }
   ],
   "source": [
    "grouped18020211 = data1802021[data1802021['강수량자료값(mm)']> 0 ].groupby(data1802021['month'])\n",
    "grouped18020212 = data1802021[data1802021['강수량자료값(mm)']> 60 ].groupby(data1802021['month'])\n",
    "grouped18020212.size()/grouped18020211.size()"
   ]
  },
  {
   "cell_type": "markdown",
   "metadata": {},
   "source": [
    "* 2022"
   ]
  },
  {
   "cell_type": "code",
   "execution_count": 104,
   "metadata": {},
   "outputs": [
    {
     "data": {
      "text/plain": [
       "Series([], dtype: float64)"
      ]
     },
     "execution_count": 104,
     "metadata": {},
     "output_type": "execute_result"
    }
   ],
   "source": [
    "grouped18020221 = data1802022[data1802022['강수량자료값(mm)']> 0 ].groupby(data1802022['month'])\n",
    "grouped18020222 = data1802022[data1802022['강수량자료값(mm)']> 60 ].groupby(data1802022['month'])\n",
    "grouped18020222.size()/grouped18020221.size()"
   ]
  },
  {
   "cell_type": "markdown",
   "metadata": {},
   "source": [
    "### 10184180관측소 데이터 시각화"
   ]
  },
  {
   "cell_type": "code",
   "execution_count": 224,
   "metadata": {},
   "outputs": [],
   "source": [
    "rkdf1801=grouped18020162.size()/grouped18020161.size()\n",
    "rkdf1802=grouped18020172.size()/grouped18020171.size()\n",
    "rkdf1803=grouped18020182.size()/grouped18020181.size()\n",
    "rkdf1804=grouped18020192.size()/grouped18020191.size()"
   ]
  },
  {
   "cell_type": "code",
   "execution_count": 225,
   "metadata": {},
   "outputs": [
    {
     "data": {
      "text/plain": [
       "Text(0.5, 0.98, '호우주의보 비율')"
      ]
     },
     "execution_count": 225,
     "metadata": {},
     "output_type": "execute_result"
    },
    {
     "data": {
      "image/png": "[encoded data removed]",
      "text/plain": [
       "<Figure size 900x700 with 4 Axes>"
      ]
     },
     "metadata": {},
     "output_type": "display_data"
    }
   ],
   "source": [
    "plt.style.use('ggplot')\n",
    "\n",
    "plt.figure(figsize=(9, 7))\n",
    "\n",
    "plt.subplot(2,2,1)\n",
    "rkdf1801.plot(x='month',kind='bar', color='#777da7')\n",
    "plt.xticks(rotation='horizontal')\n",
    "plt.legend(labels=['2016'], loc='upper right', fontsize=11)\n",
    "\n",
    "plt.subplot(2,2,2)\n",
    "rkdf1802.plot(x='month',kind='bar', color='#777da7')\n",
    "plt.xticks(rotation='horizontal')\n",
    "plt.legend(labels=['2017'], loc='upper right', fontsize=11)\n",
    "\n",
    "plt.subplot(2,2,3)\n",
    "rkdf1803.plot(x='month',kind='bar', color='#777da7')\n",
    "plt.xticks(rotation='horizontal')\n",
    "plt.legend(labels=['2018'], loc='upper right', fontsize=11)\n",
    "\n",
    "plt.subplot(2,2,4)\n",
    "rkdf1804.plot(x='month',kind='bar', color='#777da7')\n",
    "plt.xticks(rotation='horizontal')\n",
    "plt.legend(labels=['2019'], loc='upper right', fontsize=11)\n",
    "\n",
    "plt.suptitle('호우주의보 비율', size=15)"
   ]
  },
  {
   "cell_type": "markdown",
   "metadata": {},
   "source": [
    "### 10184230관측소 연도별 6, 7, 8월 데이터"
   ]
  },
  {
   "cell_type": "code",
   "execution_count": 105,
   "metadata": {},
   "outputs": [],
   "source": [
    "data2302016=data230[(data230['year']==2016) & ((data230['month']==6)|(data230['month']==7)|(data230['month']==8))]\n",
    "data2302017=data230[(data230['year']==2017) & ((data230['month']==6)|(data230['month']==7)|(data230['month']==8))]\n",
    "data2302018=data230[(data230['year']==2018) & ((data230['month']==6)|(data230['month']==7)|(data230['month']==8))]\n",
    "data2302019=data230[(data230['year']==2019) & ((data230['month']==6)|(data230['month']==7)|(data230['month']==8))]\n",
    "data2302020=data230[(data230['year']==2020) & ((data230['month']==6)|(data230['month']==7)|(data230['month']==8))]\n",
    "data2302021=data230[(data230['year']==2021) & ((data230['month']==6)|(data230['month']==7)|(data230['month']==8))]\n",
    "data2302022=data230[(data230['year']==2022) & ((data230['month']==6)|(data230['month']==7)|(data230['month']==8))]"
   ]
  },
  {
   "cell_type": "markdown",
   "metadata": {},
   "source": [
    "### 10184230관측소 연도별 6, 7, 8월 강수량 데이터"
   ]
  },
  {
   "cell_type": "markdown",
   "metadata": {},
   "source": [
    "* 2016"
   ]
  },
  {
   "cell_type": "code",
   "execution_count": 107,
   "metadata": {},
   "outputs": [
    {
     "data": {
      "text/plain": [
       "month\n",
       "6         NaN\n",
       "7    0.076923\n",
       "8         NaN\n",
       "dtype: float64"
      ]
     },
     "execution_count": 107,
     "metadata": {},
     "output_type": "execute_result"
    }
   ],
   "source": [
    "grouped23020161 = data2302016[data2302016['강수량자료값(mm)']> 0 ].groupby(data2302016['month'])\n",
    "grouped23020162 = data2302016[data2302016['강수량자료값(mm)']> 60 ].groupby(data2302016['month'])\n",
    "grouped23020162.size()/grouped23020161.size()"
   ]
  },
  {
   "cell_type": "markdown",
   "metadata": {},
   "source": [
    "* 2017"
   ]
  },
  {
   "cell_type": "code",
   "execution_count": 108,
   "metadata": {},
   "outputs": [
    {
     "data": {
      "text/plain": [
       "month\n",
       "6         NaN\n",
       "7    0.315789\n",
       "8    0.133333\n",
       "dtype: float64"
      ]
     },
     "execution_count": 108,
     "metadata": {},
     "output_type": "execute_result"
    }
   ],
   "source": [
    "grouped23020171 = data2302017[data2302017['강수량자료값(mm)']> 0 ].groupby(data2302017['month'])\n",
    "grouped23020172 = data2302017[data2302017['강수량자료값(mm)']> 60 ].groupby(data2302017['month'])\n",
    "grouped23020172.size()/grouped23020171.size()"
   ]
  },
  {
   "cell_type": "markdown",
   "metadata": {},
   "source": [
    "* 2018"
   ]
  },
  {
   "cell_type": "code",
   "execution_count": 109,
   "metadata": {},
   "outputs": [
    {
     "data": {
      "text/plain": [
       "month\n",
       "6    0.200000\n",
       "7    0.285714\n",
       "8    0.200000\n",
       "dtype: float64"
      ]
     },
     "execution_count": 109,
     "metadata": {},
     "output_type": "execute_result"
    }
   ],
   "source": [
    "grouped23020181 = data2302018[data2302018['강수량자료값(mm)']> 0 ].groupby(data2302018['month'])\n",
    "grouped23020182 = data2302018[data2302018['강수량자료값(mm)']> 60 ].groupby(data2302018['month'])\n",
    "grouped23020182.size()/grouped23020181.size()"
   ]
  },
  {
   "cell_type": "markdown",
   "metadata": {},
   "source": [
    "* 2019"
   ]
  },
  {
   "cell_type": "code",
   "execution_count": 110,
   "metadata": {},
   "outputs": [
    {
     "data": {
      "text/plain": [
       "month\n",
       "6         NaN\n",
       "7    0.076923\n",
       "8    0.076923\n",
       "dtype: float64"
      ]
     },
     "execution_count": 110,
     "metadata": {},
     "output_type": "execute_result"
    }
   ],
   "source": [
    "grouped23020191 = data2302019[data2302019['강수량자료값(mm)']> 0 ].groupby(data2302019['month'])\n",
    "grouped23020192 = data2302019[data2302019['강수량자료값(mm)']> 60 ].groupby(data2302019['month'])\n",
    "grouped23020192.size()/grouped23020191.size()"
   ]
  },
  {
   "cell_type": "markdown",
   "metadata": {},
   "source": [
    "* 2020"
   ]
  },
  {
   "cell_type": "code",
   "execution_count": 111,
   "metadata": {},
   "outputs": [
    {
     "data": {
      "text/plain": [
       "Series([], dtype: float64)"
      ]
     },
     "execution_count": 111,
     "metadata": {},
     "output_type": "execute_result"
    }
   ],
   "source": [
    "grouped23020201 = data2302020[data2302020['강수량자료값(mm)']> 0 ].groupby(data2302020['month'])\n",
    "grouped23020202 = data2302020[data2302020['강수량자료값(mm)']> 60 ].groupby(data2302020['month'])\n",
    "grouped23020202.size()/grouped23020201.size()"
   ]
  },
  {
   "cell_type": "markdown",
   "metadata": {},
   "source": [
    "* 2021"
   ]
  },
  {
   "cell_type": "code",
   "execution_count": 112,
   "metadata": {},
   "outputs": [
    {
     "data": {
      "text/plain": [
       "Series([], dtype: float64)"
      ]
     },
     "execution_count": 112,
     "metadata": {},
     "output_type": "execute_result"
    }
   ],
   "source": [
    "grouped23020211 = data2302021[data2302021['강수량자료값(mm)']> 0 ].groupby(data2302021['month'])\n",
    "grouped23020212 = data2302021[data2302021['강수량자료값(mm)']> 60 ].groupby(data2302021['month'])\n",
    "grouped23020212.size()/grouped23020211.size()"
   ]
  },
  {
   "cell_type": "markdown",
   "metadata": {},
   "source": [
    "* 2022"
   ]
  },
  {
   "cell_type": "code",
   "execution_count": 113,
   "metadata": {},
   "outputs": [
    {
     "data": {
      "text/plain": [
       "Series([], dtype: float64)"
      ]
     },
     "execution_count": 113,
     "metadata": {},
     "output_type": "execute_result"
    }
   ],
   "source": [
    "grouped23020221 = data2302022[data2302022['강수량자료값(mm)']> 0 ].groupby(data2302022['month'])\n",
    "grouped23020222 = data2302022[data2302022['강수량자료값(mm)']> 60 ].groupby(data2302022['month'])\n",
    "grouped23020222.size()/grouped23020221.size()"
   ]
  },
  {
   "cell_type": "markdown",
   "metadata": {},
   "source": [
    "### 10184230관측소 데이터 시각화"
   ]
  },
  {
   "cell_type": "code",
   "execution_count": 228,
   "metadata": {},
   "outputs": [],
   "source": [
    "rkdf2301=grouped23020162.size()/grouped23020161.size()\n",
    "rkdf2302=grouped23020172.size()/grouped23020171.size()\n",
    "rkdf2303=grouped23020182.size()/grouped23020181.size()\n",
    "rkdf2304=grouped23020192.size()/grouped23020191.size()"
   ]
  },
  {
   "cell_type": "code",
   "execution_count": 229,
   "metadata": {},
   "outputs": [
    {
     "data": {
      "text/plain": [
       "Text(0.5, 0.98, '호우주의보 비율')"
      ]
     },
     "execution_count": 229,
     "metadata": {},
     "output_type": "execute_result"
    },
    {
     "data": {
      "image/png": "[encoded data removed]",
      "text/plain": [
       "<Figure size 900x700 with 4 Axes>"
      ]
     },
     "metadata": {},
     "output_type": "display_data"
    }
   ],
   "source": [
    "plt.style.use('ggplot')\n",
    "\n",
    "plt.figure(figsize=(9, 7))\n",
    "\n",
    "plt.subplot(2,2,1)\n",
    "rkdf2301.plot(x='month',kind='bar', color='#a08bbe')\n",
    "plt.xticks(rotation='horizontal')\n",
    "plt.legend(labels=['2016'], loc='upper right', fontsize=11)\n",
    "\n",
    "plt.subplot(2,2,2)\n",
    "rkdf2302.plot(x='month',kind='bar', color='#a08bbe')\n",
    "plt.xticks(rotation='horizontal')\n",
    "plt.legend(labels=['2017'], loc='upper right', fontsize=11)\n",
    "\n",
    "plt.subplot(2,2,3)\n",
    "rkdf2303.plot(x='month',kind='bar', color='#a08bbe')\n",
    "plt.xticks(rotation='horizontal')\n",
    "plt.legend(labels=['2018'], loc='upper right', fontsize=11)\n",
    "\n",
    "plt.subplot(2,2,4)\n",
    "rkdf2304.plot(x='month',kind='bar', color='#a08bbe')\n",
    "plt.xticks(rotation='horizontal')\n",
    "plt.legend(labels=['2019'], loc='upper right', fontsize=11)\n",
    "\n",
    "plt.suptitle('호우주의보 비율', size=15)"
   ]
  },
  {
   "cell_type": "markdown",
   "metadata": {},
   "source": [
    "### 10184130관측소 연도별 6, 7, 8월 데이터"
   ]
  },
  {
   "cell_type": "code",
   "execution_count": 114,
   "metadata": {},
   "outputs": [],
   "source": [
    "data1302016=data130[(data130['year']==2016) & ((data130['month']==6)|(data130['month']==7)|(data130['month']==8))]\n",
    "data1302017=data130[(data130['year']==2017) & ((data130['month']==6)|(data130['month']==7)|(data130['month']==8))]\n",
    "data1302018=data130[(data130['year']==2018) & ((data130['month']==6)|(data130['month']==7)|(data130['month']==8))]\n",
    "data1302019=data130[(data130['year']==2019) & ((data130['month']==6)|(data130['month']==7)|(data130['month']==8))]\n",
    "data1302020=data130[(data130['year']==2020) & ((data130['month']==6)|(data130['month']==7)|(data130['month']==8))]\n",
    "data1302021=data130[(data130['year']==2021) & ((data130['month']==6)|(data130['month']==7)|(data130['month']==8))]\n",
    "data1302022=data130[(data130['year']==2022) & ((data130['month']==6)|(data130['month']==7)|(data130['month']==8))]"
   ]
  },
  {
   "cell_type": "markdown",
   "metadata": {},
   "source": [
    "### 10184130관측소 연도별 6, 7, 8월 강수량 데이터"
   ]
  },
  {
   "cell_type": "markdown",
   "metadata": {},
   "source": [
    "* 2016"
   ]
  },
  {
   "cell_type": "code",
   "execution_count": 115,
   "metadata": {},
   "outputs": [
    {
     "data": {
      "text/plain": [
       "month\n",
       "6         NaN\n",
       "7    0.153846\n",
       "8         NaN\n",
       "dtype: float64"
      ]
     },
     "execution_count": 115,
     "metadata": {},
     "output_type": "execute_result"
    }
   ],
   "source": [
    "grouped13020161 = data1302016[data1302016['강수량자료값(mm)']> 0 ].groupby(data1302016['month'])\n",
    "grouped13020162 = data1302016[data1302016['강수량자료값(mm)']> 60 ].groupby(data1302016['month'])\n",
    "grouped13020162.size()/grouped13020161.size()"
   ]
  },
  {
   "cell_type": "markdown",
   "metadata": {},
   "source": [
    "* 2017"
   ]
  },
  {
   "cell_type": "code",
   "execution_count": 116,
   "metadata": {},
   "outputs": [
    {
     "data": {
      "text/plain": [
       "month\n",
       "6         NaN\n",
       "7    0.235294\n",
       "8    0.166667\n",
       "dtype: float64"
      ]
     },
     "execution_count": 116,
     "metadata": {},
     "output_type": "execute_result"
    }
   ],
   "source": [
    "grouped13020171 = data1302017[data1302017['강수량자료값(mm)']> 0 ].groupby(data1302017['month'])\n",
    "grouped13020172 = data1302017[data1302017['강수량자료값(mm)']> 60 ].groupby(data1302017['month'])\n",
    "grouped13020172.size()/grouped13020171.size()"
   ]
  },
  {
   "cell_type": "markdown",
   "metadata": {},
   "source": [
    "* 2018"
   ]
  },
  {
   "cell_type": "code",
   "execution_count": 117,
   "metadata": {},
   "outputs": [
    {
     "data": {
      "text/plain": [
       "month\n",
       "6    0.166667\n",
       "7    0.142857\n",
       "8    0.111111\n",
       "dtype: float64"
      ]
     },
     "execution_count": 117,
     "metadata": {},
     "output_type": "execute_result"
    }
   ],
   "source": [
    "grouped13020181 = data1302018[data1302018['강수량자료값(mm)']> 0 ].groupby(data1302018['month'])\n",
    "grouped13020182 = data1302018[data1302018['강수량자료값(mm)']> 60 ].groupby(data1302018['month'])\n",
    "grouped13020182.size()/grouped13020181.size()"
   ]
  },
  {
   "cell_type": "markdown",
   "metadata": {},
   "source": [
    "* 2019"
   ]
  },
  {
   "cell_type": "code",
   "execution_count": 118,
   "metadata": {},
   "outputs": [
    {
     "data": {
      "text/plain": [
       "month\n",
       "6         NaN\n",
       "7    0.076923\n",
       "8    0.100000\n",
       "dtype: float64"
      ]
     },
     "execution_count": 118,
     "metadata": {},
     "output_type": "execute_result"
    }
   ],
   "source": [
    "grouped13020191 = data1302019[data1302019['강수량자료값(mm)']> 0 ].groupby(data1302019['month'])\n",
    "grouped13020192 = data1302019[data1302019['강수량자료값(mm)']> 60 ].groupby(data1302019['month'])\n",
    "grouped13020192.size()/grouped13020191.size()"
   ]
  },
  {
   "cell_type": "markdown",
   "metadata": {},
   "source": [
    "* 2020"
   ]
  },
  {
   "cell_type": "code",
   "execution_count": 119,
   "metadata": {},
   "outputs": [
    {
     "data": {
      "text/plain": [
       "Series([], dtype: float64)"
      ]
     },
     "execution_count": 119,
     "metadata": {},
     "output_type": "execute_result"
    }
   ],
   "source": [
    "grouped13020201 = data1302020[data1302020['강수량자료값(mm)']> 0 ].groupby(data1302020['month'])\n",
    "grouped13020202 = data1302020[data1302020['강수량자료값(mm)']> 60 ].groupby(data1302020['month'])\n",
    "grouped13020202.size()/grouped13020201.size()"
   ]
  },
  {
   "cell_type": "markdown",
   "metadata": {},
   "source": [
    "* 2021"
   ]
  },
  {
   "cell_type": "code",
   "execution_count": 120,
   "metadata": {},
   "outputs": [
    {
     "data": {
      "text/plain": [
       "Series([], dtype: float64)"
      ]
     },
     "execution_count": 120,
     "metadata": {},
     "output_type": "execute_result"
    }
   ],
   "source": [
    "grouped13020211 = data1302021[data1302021['강수량자료값(mm)']> 0 ].groupby(data1302021['month'])\n",
    "grouped13020212 = data1302021[data1302021['강수량자료값(mm)']> 60 ].groupby(data1302021['month'])\n",
    "grouped13020212.size()/grouped13020211.size()"
   ]
  },
  {
   "cell_type": "markdown",
   "metadata": {},
   "source": [
    "* 2022"
   ]
  },
  {
   "cell_type": "code",
   "execution_count": 121,
   "metadata": {},
   "outputs": [
    {
     "data": {
      "text/plain": [
       "Series([], dtype: float64)"
      ]
     },
     "execution_count": 121,
     "metadata": {},
     "output_type": "execute_result"
    }
   ],
   "source": [
    "grouped13020221 = data1302022[data1302022['강수량자료값(mm)']> 0 ].groupby(data1302022['month'])\n",
    "grouped13020222 = data1302022[data1302022['강수량자료값(mm)']> 60 ].groupby(data1302022['month'])\n",
    "grouped13020222.size()/grouped13020221.size()"
   ]
  },
  {
   "cell_type": "markdown",
   "metadata": {},
   "source": [
    "### 10184130관측소 데이터 시각화"
   ]
  },
  {
   "cell_type": "code",
   "execution_count": 231,
   "metadata": {},
   "outputs": [],
   "source": [
    "rkdf1301=grouped13020162.size()/grouped13020161.size()\n",
    "rkdf1302=grouped13020172.size()/grouped13020171.size()\n",
    "rkdf1303=grouped13020182.size()/grouped13020181.size()\n",
    "rkdf1304=grouped13020192.size()/grouped13020191.size()"
   ]
  },
  {
   "cell_type": "code",
   "execution_count": 234,
   "metadata": {
    "scrolled": false
   },
   "outputs": [
    {
     "data": {
      "text/plain": [
       "Text(0.5, 0.98, '호우주의보 비율')"
      ]
     },
     "execution_count": 234,
     "metadata": {},
     "output_type": "execute_result"
    },
    {
     "data": {
      "image/png": "[encoded data removed]",
      "text/plain": [
       "<Figure size 900x700 with 4 Axes>"
      ]
     },
     "metadata": {},
     "output_type": "display_data"
    }
   ],
   "source": [
    "plt.style.use('ggplot')\n",
    "\n",
    "plt.figure(figsize=(9, 7))\n",
    "\n",
    "plt.subplot(2,2,1)\n",
    "rkdf1301.plot(x='month',kind='bar', color='#c39797')\n",
    "plt.xticks(rotation='horizontal')\n",
    "plt.legend(labels=['2016'], loc='upper right', fontsize=11)\n",
    "\n",
    "plt.subplot(2,2,2)\n",
    "rkdf1302.plot(x='month',kind='bar', color='#c39797')\n",
    "plt.xticks(rotation='horizontal')\n",
    "plt.legend(labels=['2017'], loc='upper right', fontsize=11)\n",
    "\n",
    "plt.subplot(2,2,3)\n",
    "rkdf1303.plot(x='month',kind='bar', color='#c39797')\n",
    "plt.xticks(rotation='horizontal')\n",
    "plt.legend(labels=['2018'], loc='upper right', fontsize=11)\n",
    "\n",
    "plt.subplot(2,2,4)\n",
    "rkdf1304.plot(x='month',kind='bar', color='#c39797')\n",
    "plt.xticks(rotation='horizontal')\n",
    "plt.legend(labels=['2019'], loc='upper right', fontsize=11)\n",
    "\n",
    "plt.suptitle('호우주의보 비율', size=15)"
   ]
  },
  {
   "cell_type": "markdown",
   "metadata": {},
   "source": [
    "## 위험도"
   ]
  },
  {
   "cell_type": "code",
   "execution_count": 8,
   "metadata": {},
   "outputs": [
    {
     "data": {
      "text/plain": [
       "Index(['연번', '구분', '하천명', '구간_시점', '구간_종점', '유역_면적(제곱킬로미터)', '하천연장(킬로미터)',\n",
       "       '제방_총연장', '제방_개수', '제방_미개수', '개수율', '데이터기준일자', '위도', '경도'],\n",
       "      dtype='object')"
      ]
     },
     "execution_count": 8,
     "metadata": {},
     "output_type": "execute_result"
    }
   ],
   "source": [
    "gg_df = pd.read_csv(\"gg_data_ll.csv\", encoding=\"cp949\")\n",
    "gg_df.columns"
   ]
  },
  {
   "cell_type": "code",
   "execution_count": null,
   "metadata": {
    "scrolled": false
   },
   "outputs": [],
   "source": [
    "riskdf=gg_df.loc[:,('하천명','유역_면적(제곱킬로미터)','하천연장(킬로미터)','개수율')]"
   ]
  },
  {
   "cell_type": "code",
   "execution_count": 258,
   "metadata": {},
   "outputs": [],
   "source": [
    "riskdf['하천밀도']=riskdf.loc[:,'하천연장(킬로미터)']/riskdf.loc[:,'유역_면적(제곱킬로미터)']"
   ]
  },
  {
   "cell_type": "code",
   "execution_count": 260,
   "metadata": {},
   "outputs": [],
   "source": [
    "riskdf['표준화_개수율']=(riskdf['개수율']-riskdf['개수율'].mean())/riskdf['개수율'].std()"
   ]
  },
  {
   "cell_type": "code",
   "execution_count": 262,
   "metadata": {},
   "outputs": [],
   "source": [
    "riskdf['표준화_하천밀도']=(riskdf['하천밀도']-riskdf['하천밀도'].mean())/riskdf['하천밀도'].std()"
   ]
  },
  {
   "cell_type": "code",
   "execution_count": 263,
   "metadata": {},
   "outputs": [
    {
     "data": {
      "text/html": [
       "<div>\n",
       "<style scoped>\n",
       "    .dataframe tbody tr th:only-of-type {\n",
       "        vertical-align: middle;\n",
       "    }\n",
       "\n",
       "    .dataframe tbody tr th {\n",
       "        vertical-align: top;\n",
       "    }\n",
       "\n",
       "    .dataframe thead th {\n",
       "        text-align: right;\n",
       "    }\n",
       "</style>\n",
       "<table border=\"1\" class=\"dataframe\">\n",
       "  <thead>\n",
       "    <tr style=\"text-align: right;\">\n",
       "      <th></th>\n",
       "      <th>하천명</th>\n",
       "      <th>유역_면적(제곱킬로미터)</th>\n",
       "      <th>하천연장(킬로미터)</th>\n",
       "      <th>개수율</th>\n",
       "      <th>하천밀도</th>\n",
       "      <th>표준화_개수율</th>\n",
       "      <th>표준화_하천밀도</th>\n",
       "    </tr>\n",
       "  </thead>\n",
       "  <tbody>\n",
       "    <tr>\n",
       "      <th>0</th>\n",
       "      <td>탄천</td>\n",
       "      <td>145.74</td>\n",
       "      <td>15.700</td>\n",
       "      <td>100.0</td>\n",
       "      <td>0.107726</td>\n",
       "      <td>0.941613</td>\n",
       "      <td>-1.268275</td>\n",
       "    </tr>\n",
       "    <tr>\n",
       "      <th>1</th>\n",
       "      <td>동막천</td>\n",
       "      <td>29.34</td>\n",
       "      <td>7.120</td>\n",
       "      <td>28.3</td>\n",
       "      <td>0.242672</td>\n",
       "      <td>-2.170413</td>\n",
       "      <td>-0.994677</td>\n",
       "    </tr>\n",
       "    <tr>\n",
       "      <th>2</th>\n",
       "      <td>분당천</td>\n",
       "      <td>11.89</td>\n",
       "      <td>3.620</td>\n",
       "      <td>100.0</td>\n",
       "      <td>0.304458</td>\n",
       "      <td>0.941613</td>\n",
       "      <td>-0.869409</td>\n",
       "    </tr>\n",
       "    <tr>\n",
       "      <th>3</th>\n",
       "      <td>운중천</td>\n",
       "      <td>24.91</td>\n",
       "      <td>8.000</td>\n",
       "      <td>86.7</td>\n",
       "      <td>0.321156</td>\n",
       "      <td>0.364348</td>\n",
       "      <td>-0.835553</td>\n",
       "    </tr>\n",
       "    <tr>\n",
       "      <th>4</th>\n",
       "      <td>금토천</td>\n",
       "      <td>9.77</td>\n",
       "      <td>3.070</td>\n",
       "      <td>37.1</td>\n",
       "      <td>0.314227</td>\n",
       "      <td>-1.788462</td>\n",
       "      <td>-0.849601</td>\n",
       "    </tr>\n",
       "    <tr>\n",
       "      <th>...</th>\n",
       "      <td>...</td>\n",
       "      <td>...</td>\n",
       "      <td>...</td>\n",
       "      <td>...</td>\n",
       "      <td>...</td>\n",
       "      <td>...</td>\n",
       "      <td>...</td>\n",
       "    </tr>\n",
       "    <tr>\n",
       "      <th>31</th>\n",
       "      <td>동막4천</td>\n",
       "      <td>0.35</td>\n",
       "      <td>0.404</td>\n",
       "      <td>44.1</td>\n",
       "      <td>1.154286</td>\n",
       "      <td>-1.484638</td>\n",
       "      <td>0.853585</td>\n",
       "    </tr>\n",
       "    <tr>\n",
       "      <th>32</th>\n",
       "      <td>운중3천</td>\n",
       "      <td>0.56</td>\n",
       "      <td>0.390</td>\n",
       "      <td>92.6</td>\n",
       "      <td>0.696429</td>\n",
       "      <td>0.620428</td>\n",
       "      <td>-0.074703</td>\n",
       "    </tr>\n",
       "    <tr>\n",
       "      <th>33</th>\n",
       "      <td>하산천</td>\n",
       "      <td>1.26</td>\n",
       "      <td>0.737</td>\n",
       "      <td>100.0</td>\n",
       "      <td>0.584921</td>\n",
       "      <td>0.941613</td>\n",
       "      <td>-0.300781</td>\n",
       "    </tr>\n",
       "    <tr>\n",
       "      <th>34</th>\n",
       "      <td>석운천</td>\n",
       "      <td>4.40</td>\n",
       "      <td>2.378</td>\n",
       "      <td>80.7</td>\n",
       "      <td>0.540455</td>\n",
       "      <td>0.103927</td>\n",
       "      <td>-0.390934</td>\n",
       "    </tr>\n",
       "    <tr>\n",
       "      <th>35</th>\n",
       "      <td>발화산리천</td>\n",
       "      <td>1.97</td>\n",
       "      <td>1.892</td>\n",
       "      <td>47.6</td>\n",
       "      <td>0.960406</td>\n",
       "      <td>-1.332726</td>\n",
       "      <td>0.460502</td>\n",
       "    </tr>\n",
       "  </tbody>\n",
       "</table>\n",
       "<p>36 rows × 7 columns</p>\n",
       "</div>"
      ],
      "text/plain": [
       "      하천명  유역_면적(제곱킬로미터)  하천연장(킬로미터)    개수율      하천밀도   표준화_개수율  표준화_하천밀도\n",
       "0      탄천         145.74      15.700  100.0  0.107726  0.941613 -1.268275\n",
       "1     동막천          29.34       7.120   28.3  0.242672 -2.170413 -0.994677\n",
       "2     분당천          11.89       3.620  100.0  0.304458  0.941613 -0.869409\n",
       "3     운중천          24.91       8.000   86.7  0.321156  0.364348 -0.835553\n",
       "4     금토천           9.77       3.070   37.1  0.314227 -1.788462 -0.849601\n",
       "..    ...            ...         ...    ...       ...       ...       ...\n",
       "31   동막4천           0.35       0.404   44.1  1.154286 -1.484638  0.853585\n",
       "32   운중3천           0.56       0.390   92.6  0.696429  0.620428 -0.074703\n",
       "33    하산천           1.26       0.737  100.0  0.584921  0.941613 -0.300781\n",
       "34    석운천           4.40       2.378   80.7  0.540455  0.103927 -0.390934\n",
       "35  발화산리천           1.97       1.892   47.6  0.960406 -1.332726  0.460502\n",
       "\n",
       "[36 rows x 7 columns]"
      ]
     },
     "execution_count": 263,
     "metadata": {},
     "output_type": "execute_result"
    }
   ],
   "source": [
    "riskdf"
   ]
  },
  {
   "cell_type": "code",
   "execution_count": 1,
   "metadata": {},
   "outputs": [
    {
     "ename": "NameError",
     "evalue": "name 'riskdf' is not defined",
     "output_type": "error",
     "traceback": [
      "\u001b[1;31m---------------------------------------------------------------------------\u001b[0m",
      "\u001b[1;31mNameError\u001b[0m                                 Traceback (most recent call last)",
      "Cell \u001b[1;32mIn[1], line 1\u001b[0m\n\u001b[1;32m----> 1\u001b[0m \u001b[43mriskdf\u001b[49m[\u001b[38;5;124m'\u001b[39m\u001b[38;5;124m표준화_개수율\u001b[39m\u001b[38;5;124m'\u001b[39m]\u001b[38;5;241m.\u001b[39mmean()\n",
      "\u001b[1;31mNameError\u001b[0m: name 'riskdf' is not defined"
     ]
    }
   ],
   "source": [
    "riskdf['표준화_개수율'].mean()"
   ]
  },
  {
   "cell_type": "code",
   "execution_count": null,
   "metadata": {},
   "outputs": [],
   "source": []
  }
 ],
 "metadata": {
  "kernelspec": {
   "display_name": "Python 3 (ipykernel)",
   "language": "python",
   "name": "python3"
  },
  "language_info": {
   "codemirror_mode": {
    "name": "ipython",
    "version": 3
   },
   "file_extension": ".py",
   "mimetype": "text/x-python",
   "name": "python",
   "nbconvert_exporter": "python",
   "pygments_lexer": "ipython3",
   "version": "3.11.3"
  },
  "toc": {
   "base_numbering": 1,
   "nav_menu": {},
   "number_sections": true,
   "sideBar": true,
   "skip_h1_title": false,
   "title_cell": "Table of Contents",
   "title_sidebar": "Contents",
   "toc_cell": false,
   "toc_position": {},
   "toc_section_display": true,
   "toc_window_display": false
  },
  "varInspector": {
   "cols": {
    "lenName": 16,
    "lenType": 16,
    "lenVar": 40
   },
   "kernels_config": {
    "python": {
     "delete_cmd_postfix": "",
     "delete_cmd_prefix": "del ",
     "library": "var_list.py",
     "varRefreshCmd": "print(var_dic_list())"
    },
    "r": {
     "delete_cmd_postfix": ") ",
     "delete_cmd_prefix": "rm(",
     "library": "var_list.r",
     "varRefreshCmd": "cat(var_dic_list()) "
    }
   },
   "types_to_exclude": [
    "module",
    "function",
    "builtin_function_or_method",
    "instance",
    "_Feature"
   ],
   "window_display": false
  }
 },
 "nbformat": 4,
 "nbformat_minor": 4
}
